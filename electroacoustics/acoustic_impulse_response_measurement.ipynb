{
 "cells": [
  {
   "cell_type": "markdown",
   "metadata": {
    "nbsphinx": "hidden"
   },
   "source": [
    "# Measurement of an Acoustic Impulse Response\n",
    "\n",
    "*This Jupyter notebook is part of a [collection of notebooks](../index.ipynb) in the masters module Selected Topics in Audio Signal Processing, Communications Engineering, Universität Rostock. Please direct questions and suggestions to [Sascha.Spors@uni-rostock.de](mailto:Sascha.Spors@uni-rostock.de).*"
   ]
  },
  {
   "cell_type": "markdown",
   "metadata": {},
   "source": [
    "## Introduction\n",
    "\n",
    "The propagation of sound from one position (e.g. transmitter) to another (e.g. receiver) conforms reasonable well to the properties of a linear time-invariant (LTI) system. Consequently, the impulse response $h[k]$ characterizes the propagation of sound between theses two positions. Impulse responses have various applications in acoustics. For instance as [head-related impulse responses](https://en.wikipedia.org/wiki/Head-related_transfer_function) (HRIRs) or room impulse responses (RIRs) for the characterization of room acoustics. \n",
    "\n",
    "The following example demonstrates how an acoustic transfer function can be estimated by spectral divison using the soundcard of a computer. The module [`sounddevice`](http://python-sounddevice.readthedocs.org/) provides access to the soundcard via [`portaudio`](http://www.portaudio.com/)."
   ]
  },
  {
   "cell_type": "code",
   "execution_count": 1,
   "metadata": {},
   "outputs": [],
   "source": [
    "%matplotlib inline\n",
    "\n",
    "import numpy as np\n",
    "import matplotlib.pyplot as plt\n",
    "import scipy.signal as sig\n",
    "import sounddevice as sd"
   ]
  },
  {
   "cell_type": "markdown",
   "metadata": {},
   "source": [
    "## Generation of the Measurement Signal\n",
    "\n",
    "We generate a linear sweep as measurement signal"
   ]
  },
  {
   "cell_type": "code",
   "execution_count": 2,
   "metadata": {},
   "outputs": [],
   "source": [
    "fs = 44100  # sampling rate\n",
    "T = 5  # length of the measurement signal in sec\n",
    "Tr = 2  # length of the expected system response in sec\n",
    "\n",
    "t = np.linspace(0, T, T*fs)\n",
    "x = sig.chirp(t, 20, T, 20000, 'linear', phi=90)\n",
    "x = 0.9 * x / np.max(np.abs(x))"
   ]
  },
  {
   "cell_type": "markdown",
   "metadata": {},
   "source": [
    "## Playback of Measurement Signal and Recording of Room Response\n",
    "\n",
    "The measurement signal $x[k]$ is played through the output of the soundcard and the response $y[k]$ is captured synchronously by the input of the soundcard. The length of the played/captured signal has to be of equal length when using the soundcard. The measurement signal $x[k]$ is zero-padded so that the captured signal $y[k]$ includes the complete system response.\n",
    "\n",
    "Please be careful with the volume of your speakers. Start with a very low volume and increase until a reasonable microphone level is reached. This holds especially for the low and high frequencies which can damage your speakers at high levels. After both the loudspeaker and microphone levels are set, repeat the recording with fixed settings."
   ]
  },
  {
   "cell_type": "code",
   "execution_count": 3,
   "metadata": {},
   "outputs": [
    {
     "name": "stdout",
     "output_type": "stream",
     "text": [
      "Playback level:  -0.915149812185  dB\n",
      "Input level:  -3.48441469552  dB\n"
     ]
    }
   ],
   "source": [
    "x = np.concatenate((x, np.zeros(Tr*fs)))\n",
    "y = sd.playrec(x, fs, channels=1)\n",
    "sd.wait()\n",
    "y = np.squeeze(y)\n",
    "\n",
    "print('Playback level: ', 20*np.log10(max(x)), ' dB')\n",
    "print('Input level: ', 20*np.log10(max(y)), ' dB')"
   ]
  },
  {
   "cell_type": "markdown",
   "metadata": {},
   "source": [
    "## Computation of the Acoustic Impulse Response\n",
    "\n",
    "The impulse response is computed by spectral division $h[k] = \\text{IDFT}_N \\left\\{ \\frac{ \\text{DFT}_N \\{ y[k] \\}}{\\text{DFT}_N \\{ x[k] \\}} \\right\\} $"
   ]
  },
  {
   "cell_type": "code",
   "execution_count": 4,
   "metadata": {},
   "outputs": [],
   "source": [
    "H = np.fft.rfft(y) / np.fft.rfft(x)\n",
    "h = np.fft.irfft(H)\n",
    "\n",
    "h = h[0:Tr*fs]"
   ]
  },
  {
   "cell_type": "markdown",
   "metadata": {},
   "source": [
    "and plotted for illustration"
   ]
  },
  {
   "cell_type": "code",
   "execution_count": 5,
   "metadata": {},
   "outputs": [
    {
     "data": {
      "image/png": "[encoded data removed]",
      "text/plain": [
       "<matplotlib.figure.Figure at 0x10cd5ea58>"
      ]
     },
     "metadata": {},
     "output_type": "display_data"
    }
   ],
   "source": [
    "plt.figure(figsize=(10, 5))\n",
    "t = 1/fs * np.arange(len(h))\n",
    "plt.plot(t, h)\n",
    "plt.axis([0.0, 1.0, -1.1*np.max(np.abs(h)), 1.1*np.max(np.abs(h))])\n",
    "plt.xlabel(r'$t$ in s')\n",
    "plt.ylabel(r'$\\hat{h}[k]$');"
   ]
  },
  {
   "cell_type": "markdown",
   "metadata": {
    "nbsphinx": "hidden"
   },
   "source": [
    "**Copyright**\n",
    "\n",
    "This notebook is provided as [Open Educational Resources](https://en.wikipedia.org/wiki/Open_educational_resources). Feel free to use the notebook for your own purposes. The text/images/data are licensed under [Creative Commons Attribution 4.0](https://creativecommons.org/licenses/by/4.0/), the code of the IPython examples under the [MIT license](https://opensource.org/licenses/MIT). Please attribute the work as follows: *Sascha Spors, Selected Topics in Audio Signal Processing - Supplementary Material, 2017*."
   ]
  }
 ],
 "metadata": {
  "anaconda-cloud": {},
  "kernelspec": {
   "display_name": "Python 3",
   "language": "python",
   "name": "python3"
  },
  "language_info": {
   "codemirror_mode": {
    "name": "ipython",
    "version": 3
   },
   "file_extension": ".py",
   "mimetype": "text/x-python",
   "name": "python",
   "nbconvert_exporter": "python",
   "pygments_lexer": "ipython3",
   "version": "3.5.2"
  }
 },
 "nbformat": 4,
 "nbformat_minor": 1
}
