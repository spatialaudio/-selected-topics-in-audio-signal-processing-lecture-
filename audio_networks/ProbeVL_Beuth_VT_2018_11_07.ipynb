{
 "cells": [
  {
   "cell_type": "markdown",
   "metadata": {
    "slideshow": {
     "slide_type": "slide"
    }
   },
   "source": [
    "Grundlagen der digitalen Liveproduktion und  -übertragung von Ton und Video im Veranstaltungsbereich\n",
    "===\n",
    "\n",
    "Probe-Lehrveranstaltung für Professur *Ton-, Video- und Medientechnik*, Stellenausschreibung 1053\n",
    "\n",
    "[Beuth Hochschule FB VIII](http://www.beuth-hochschule.de/viii/)\n",
    "\n",
    "Dozent: [Frank Schultz](https://www.researchgate.net/profile/Frank_Schultz)\n",
    "\n",
    "[Profil @ AES](http://www.aes.org/aes/fschultz), [Profil @ INT](http://www.int.uni-rostock.de/Mitarbeiter-Info.23+B6Jkw9MCZjSGFzaD00MmMwNzI3MGNhYjI3OWZiZWY2Yzk2ZGVjNzBiYmZhMSZ0eF9qcHN0YWZmX3BpMSU1QnNob3dVaWQlNUQ9MTE0.0.html), Github, BitBucket: fs446\n",
    "\n",
    "https://github.com/spatialaudio/selected-topics-in-audio-signal-processing-lecture/audio_networks\n",
    "\n",
    "\n",
    "07.11.2018"
   ]
  },
  {
   "cell_type": "markdown",
   "metadata": {
    "slideshow": {
     "slide_type": "slide"
    }
   },
   "source": [
    "# Analog vs. Digital\n",
    "\n",
    "## Zeitsignal\n",
    "\n",
    "![Analog vs. Digital](img/Analog_vs_Digital.png)"
   ]
  },
  {
   "cell_type": "markdown",
   "metadata": {
    "slideshow": {
     "slide_type": "subslide"
    }
   },
   "source": [
    "## Codierung Digital\n",
    "\n",
    "Jedes Sample kann im Beispiel nur eins der folgenden acht Bitmuster annehmen:\n",
    "\n",
    "1. 000\n",
    "2. 001\n",
    "3. 010\n",
    "4. 011\n",
    "5. 100\n",
    "6. 101\n",
    "7. 110\n",
    "8. 111\n",
    "\n",
    "Welches Muster zu welchem Sinuswert gehört muss festgelegt werden.\n",
    "\n",
    "z.B.\n",
    "\n",
    "* digital: 000 = analog: 0.0\n",
    "\n",
    "* digital: 001 = analog: kleinste positive Signalamplitude\n",
    "\n",
    "* usw.\n",
    "\n",
    "## Wandlung Paradigma\n",
    "\n",
    "* Analog-Digital-Wandlung (**AD**) so '**früh**' ('an' der Quelle) wie möglich\n",
    "* Digital-Analog-Wandlung (**DA**) so '**spät**' ('vor' dem Empfänger) wie nötig\n",
    "\n",
    "## Vorteile / Nachteile Analog / Digital?!?!"
   ]
  },
  {
   "cell_type": "markdown",
   "metadata": {
    "slideshow": {
     "slide_type": "slide"
    }
   },
   "source": [
    "# Datenfluss\n",
    "\n",
    "## Synchronität\n",
    "\n",
    "* Signal zur 'gleichen' Zeit bei Sender und Empfänger \n",
    "\n",
    "* z.B. Punkt-2-Punkt Verbindungen\n",
    "\n",
    "* Mischpult-Busse, MADI, AES/EBU, SDI, DMX\n",
    "\n",
    "## Isochronität\n",
    "\n",
    "* nicht synchron, Empfänger erhält Signal aber immer gleich verspätet\n",
    "\n",
    "* determinierte, konstante Latenz\n",
    "\n",
    "## Asynchronität\n",
    "\n",
    "* Empfänger enthält die Daten zu ungewissem Zeitpunkt\n",
    "\n",
    "* nicht determinierte, nicht konstante Latenz\n",
    "\n",
    "* für Live **nicht** geeignet"
   ]
  },
  {
   "cell_type": "markdown",
   "metadata": {
    "slideshow": {
     "slide_type": "slide"
    }
   },
   "source": [
    "# Echtzeit\n",
    "\n",
    "## harte Echtzeit\n",
    "\n",
    "* System ist zu **100%** bis zur **vorgegebenen Zeit** mit Datenbereitstellung **fertig**\n",
    "\n",
    "* Garantie, dass Daten vorliegen\n",
    "\n",
    "* z.B. AD-Wandler, Kamera, Mischpulte, Endstufen, Hardware-Effektprozessor, Quality of Service bei AVB/TNS\n",
    "\n",
    "## weiche Echtzeit\n",
    "\n",
    "* System ist mit **sehr, sehr, sehr, sehr... hoher Wahrscheinlichkeit** bis zur **vorgegebenen Zeit** mit Datenbereitstellung **fertig**\n",
    "\n",
    "* keine 100% Garantie, dass Daten vorliegen\n",
    "\n",
    "* zB. StreamingDienste, Consumer, Quality of Service bei Voice/Audio over IP"
   ]
  },
  {
   "cell_type": "markdown",
   "metadata": {
    "slideshow": {
     "slide_type": "slide"
    }
   },
   "source": [
    "# Redundanz\n",
    "\n",
    "* Ausfall eine Leitung analoges Multicore?!\n",
    "* Ausfall eine Leitung digitales Multicore?!\n",
    "\n",
    "Umsetzung auf Hardware Ebene\n",
    "\n",
    "* Managed Switches \n",
    "* Ring\n",
    "* Spanning Tree\n"
   ]
  },
  {
   "cell_type": "markdown",
   "metadata": {
    "slideshow": {
     "slide_type": "slide"
    }
   },
   "source": [
    "# Codierung\n",
    "\n",
    "## Schema Codierung und Übertragung\n",
    "\n",
    "![Allgemeines Codierungs- und Übertragungsschema](img/CodierungSchema.png)"
   ]
  },
  {
   "cell_type": "markdown",
   "metadata": {
    "slideshow": {
     "slide_type": "-"
    }
   },
   "source": [
    "# Beispiel: Leitungscodierung für Basisband\n",
    "\n",
    "## Spektrum Bitfolgensignal\n",
    "\n",
    "Spektrumanalyzer Beispiel Smaart (Rational Acoustics)\n",
    "<img src = \"https://www.rationalacoustics.com/wp-content/uploads/2016/02/RTA.png\" alt=\"Spektrumanalyzer Beispiel\">"
   ]
  },
  {
   "cell_type": "markdown",
   "metadata": {
    "slideshow": {
     "slide_type": "-"
    }
   },
   "source": [
    "## Direkt Code, auch: Non-Return-to-Zero (NRZ)\n",
    "\n",
    "High/1 = +, Low/0 = -\n",
    "\n",
    "* kürzest mögliche Periodendauer im Bitfolgensignal xB(t) ist $T_0 = 2 T_B$\n",
    "* schnellste auftretende Grundschwingung ist $f_{0,max} = \\frac{1}{T_0} = \\frac{1}{2 T_B}$\n",
    "* längste Periodendauer ist abhängig davon was Kanal- und Leitungscode aus der Bitfolge machen\n",
    "\n",
    "![Direkter Code, NRZ-Code](img/DirectCode.png)"
   ]
  },
  {
   "cell_type": "markdown",
   "metadata": {
    "slideshow": {
     "slide_type": "-"
    }
   },
   "source": [
    "## Coded Mark Inversion\n",
    "\n",
    "High/1 = toggle zwischen + und -, Low/0 = - zu + Flanke bei halbem Bit\n",
    "\n",
    "* kürzest mögliche Periodendauer im Bitfolgensignal xB(t) ist $T_B$\n",
    "* schnellste auftretende Grundschwingung ist $f_{0,max} = \\frac{1}{T_B}$\n",
    "* längste Periodendauer gehört zur Bitfolge 1 0 1 0\n",
    "\n",
    "![Coded Mark Inversion](img/CMICode.png)\n",
    "\n",
    "## Veranschaulichung von Bitfolgen und deren Langzeit-Spektren"
   ]
  },
  {
   "cell_type": "code",
   "execution_count": 1,
   "metadata": {
    "slideshow": {
     "slide_type": "-"
    }
   },
   "outputs": [],
   "source": [
    "# Funktionen zum Bitfolgensignal erstellen und plotten des Signals/Spektrums\n",
    "import numpy as np\n",
    "import matplotlib.pyplot as plt\n",
    "# Plots direkt hier erzeugen:\n",
    "%matplotlib inline  \n",
    "\n",
    "def plot_my_code(t, x, f, X, TB, title_string,unit_normalize):\n",
    "    fig = plt.figure(figsize=(12, 12 * 10/16))\n",
    "    \n",
    "    if False:\n",
    "        plt.subplot(211)\n",
    "        if unit_normalize == 0:\n",
    "            plt.plot(t * (10**unit_normalize), x, '-k')\n",
    "            plt.xlabel(r'$t$ / s')\n",
    "        elif unit_normalize == 3:\n",
    "            plt.plot(t * (10**unit_normalize), x, '-k')\n",
    "            plt.xlabel(r'$t$ / ms')\n",
    "        elif unit_normalize == 6:\n",
    "            plt.plot(t * (10**unit_normalize), x, '-k')\n",
    "            plt.xlabel(r'$t$ / $\\mu$s')    \n",
    "        else:\n",
    "            plt.plot(t, x, '-k')\n",
    "            plt.xlabel(r'$t$ / s')\n",
    "        plt.ylabel(r'$x_B(t)$')\n",
    "        plt.title(title_string)\n",
    "        plt.ylim(-1.1, +1.1)\n",
    "        plt.xlim(0, np.max(t) * (10**unit_normalize))    \n",
    "        plt.grid()\n",
    "\n",
    "    plt.subplot(212)\n",
    "    if unit_normalize == 0:\n",
    "        plt.plot(f / (10**unit_normalize), 20*np.log10(X), '-ok')\n",
    "        plt.xlabel(r'$f$ / Hz')\n",
    "    elif unit_normalize == 3:\n",
    "        plt.plot(f / (10**unit_normalize), 20*np.log10(X), '-ok')\n",
    "        plt.xlabel(r'$f$ / kHz')\n",
    "    elif unit_normalize == 6:\n",
    "        plt.plot(f / (10**unit_normalize), 20*np.log10(X), '-ok')\n",
    "        plt.xlabel(r'$f$ / MHz')\n",
    "    else:        \n",
    "        plt.plot(f, 20*np.log10(X), '-ok')\n",
    "        plt.xlabel(r'$f$ / Hz')\n",
    "    plt.ylabel(r'$20 \\log_{10}|X_B|$ / dB')\n",
    "    plt.title(title_string)\n",
    "    plt.grid()\n",
    "    plt.ylim(-100, 20)\n",
    "    plt.xlim(0, 8 * (1/TB) / (10**unit_normalize))\n",
    "\n",
    "    #plt.show()  # im Jupyter Notebook nicht benötigt wegen inline plotting\n",
    "\n",
    "def get_NRZ_Code(x,b,N):\n",
    "    # Code: High/I = 1, Low/O = -1\n",
    "    Code1 = +1 * np.ones(N)  # Signalteil für Zustand High\n",
    "    Code0 = -1 * np.ones(N)  # Signalteil für Zustand Low\n",
    "    k = 0  # Zählvariable\n",
    "    for nb in b:\n",
    "        if nb == 1:\n",
    "            x[k*N : (k+1)*N] = Code1\n",
    "        elif nb == 0:\n",
    "            x[k*N : (k+1)*N] = Code0\n",
    "        else:\n",
    "            k = False  # wenn Programm hier landet, dann Fehler\n",
    "        k += 1\n",
    "    return x\n",
    "\n",
    "def get_Coded_Mark_Inversion(x,b,N):\n",
    "    # Code: High/I = toggle, Low/O -1->+1 bei halber Bitbreite\n",
    "    Code1 = np.append( +1 * np.ones(int(N/2)), +1 * np.ones(int(N/2)))  # Signalteil für Zustand High\n",
    "    Code0 = np.append( -1 * np.ones(int(N/2)), +1 * np.ones(int(N/2)))  # Signalteil für Zustand Low\n",
    "    Pol = +1  # Variable für Wechselflanke Zustand High\n",
    "    k = 0  # Zählvariable\n",
    "    for nb in b:\n",
    "        if nb == 1:\n",
    "            x[k*N : (k+1)*N] = Pol * Code1\n",
    "            Pol = -1 * Pol  # toggle Polarität und merken für nächstes High\n",
    "        elif nb == 0:\n",
    "            x[k*N : (k+1)*N] = Code0\n",
    "        else:\n",
    "            k = False  # wenn Programm hier landet, dann Fehler\n",
    "        k += 1\n",
    "    return x\n",
    "\n",
    "def get_NRZI_Code():  # TBD for HD-SDI\n",
    "    return 0"
   ]
  },
  {
   "cell_type": "code",
   "execution_count": 2,
   "metadata": {
    "slideshow": {
     "slide_type": "-"
    }
   },
   "outputs": [
    {
     "name": "stdout",
     "output_type": "stream",
     "text": [
      "2*TB= 20.345052083333332 ns\n",
      "TB= 10.172526041666666 ns\n",
      "1/(2*TB)= 49.152 MHz\n",
      "1/(1*TB)= 98.304 MHz\n"
     ]
    },
    {
     "name": "stderr",
     "output_type": "stream",
     "text": [
      "/Users/fs446/anaconda3/lib/python3.6/site-packages/ipykernel_launcher.py:38: RuntimeWarning: divide by zero encountered in log10\n"
     ]
    },
    {
     "data": {
      "image/png": "[encoded data removed]",
      "text/plain": [
       "<Figure size 864x540 with 1 Axes>"
      ]
     },
     "metadata": {},
     "output_type": "display_data"
    },
    {
     "data": {
      "image/png": "[encoded data removed]",
      "text/plain": [
       "<Figure size 864x540 with 1 Axes>"
      ]
     },
     "metadata": {},
     "output_type": "display_data"
    }
   ],
   "source": [
    "# Bitfolge / Takt -> Benutzer Eingabe:\n",
    "if False:  # kurze Bitfolge, niedrige Frequenz zum Validieren des Codes\n",
    "    b = np.array([1,0,1,0,1,0,1,0,1,1,0,0])  # definiere Bitfolge\n",
    "    b = np.array([1,0,1,1,0,1,0,0])  # definiere Bitfolge wie im Beispiel oben    \n",
    "    TB = 1/1  # Zeit für ein Bit\n",
    "    Einheitsskalierung = 0  # 0 für s / Hz, 3 für ms / kHz, 6 für us / MHz\n",
    "else:  # lange Bitfolge, hohe Frequenz zum Validieren und Studieren des Langzeitspektrums\n",
    "    b = np.random.randint(2, size=2**12)\n",
    "    TB = 1/(48000*32*64)  # Zeit für ein Bit, z.B. bei MADI 48 kHz Abtastfrequenz, 32 Bits pro Sample, 64 Kanäle\n",
    "    Einheitsskalierung = 6  # 0 für s / Hz, 3 für ms / kHz, 6 für us / MHz\n",
    "    #TB = 4/5*TB  # MADI 4B5B Redundanzcodierung, ca. 5/4 Bandbreitenerhöhung, aber vgl. viel robuster\n",
    "# ---\n",
    "print(\"2*TB=\",2*TB*1000*1000*1000,\"ns\")\n",
    "print(\"TB=\",TB*1000*1000*1000,\"ns\")\n",
    "print(\"1/(2*TB)=\",1/(2*TB)/1000/1000,\"MHz\")\n",
    "print(\"1/(1*TB)=\",1/TB/1000/1000,\"MHz\")\n",
    "\n",
    "fs = 1 / (1/100 * TB)  # Abtastfrequenz für quasikontinuierliche Bitfolge, daher Wahl Abtasttakt Ts << TB\n",
    "N = int(TB * fs)  # Anzahl Samples für Darstellung eines einzelnen Bitzustandes\n",
    "x = np.zeros(N*len(b))  # RAM Allokation für vollständiges Bitfolgensignal x\n",
    "t = np.arange(0,len(x))/fs  # definiere Zeitachse für Bitfolgensignal x(t)\n",
    "df = fs/len(x)  # Frequenzauflösung der DFT in Hz für die Spektrumsdarstellung\n",
    "f = np.arange(0,fs,df)  # definiere Frequenzachse für Spektrum X(f) von x(t)\n",
    "\n",
    "# Erzeugung NRZ Code\n",
    "x = get_NRZ_Code(x,b,N)\n",
    "X = np.fft.fft(x)\n",
    "X = 2 / len(X) * np.abs(X)  # Betragsspektrum\n",
    "plot_my_code(t,x,f,X,TB,'Langzeitspektrum NRZ Code',Einheitsskalierung)  # Plotten\n",
    "\n",
    "# Erzeugung 'Coded Mark Inversion' Code\n",
    "x = get_Coded_Mark_Inversion(x,b,N)\n",
    "X = np.fft.fft(x)\n",
    "X = 2 / len(X) * np.abs(X)  # Betragsspektrum\n",
    "plot_my_code(t,x,f,X,TB,'Langzeitspektrum Coded Mark Inversion',Einheitsskalierung)  # Plotten"
   ]
  },
  {
   "cell_type": "markdown",
   "metadata": {
    "slideshow": {
     "slide_type": "slide"
    }
   },
   "source": [
    "# Datenrate\n",
    "\n",
    "## Beispiel: Multichannel Audio Digital Interface (MADI)\n",
    "\n",
    "### Nutz-Datenrate MADI (64 Kanäle, fs=48 kHz über Coax, STP, Fiber)\n",
    "\n",
    "![Nutz-Datenrate MADI Schema](img/MADIFrame.png)\n"
   ]
  },
  {
   "cell_type": "code",
   "execution_count": 3,
   "metadata": {
    "slideshow": {
     "slide_type": "slide"
    }
   },
   "outputs": [
    {
     "name": "stdout",
     "output_type": "stream",
     "text": [
      "98.304 Mbit/s\n",
      "93.75 Mibit/s\n"
     ]
    }
   ],
   "source": [
    "B = 32  # Bit pro Sample\n",
    "fs = 48000  # Abtastfrequenz\n",
    "Ch = 64  # Anzahl Kanäle\n",
    "\n",
    "D = B*fs*Ch  # Bits pro Sekunde\n",
    "print(D/1000/1000,\"Mbit/s\")  #/1000->kbit/s, /1000/1000->Mbit/s\n",
    "print(D/1024/1024,\"Mibit/s\")  #/1024->kiBit/s, /1024/1024->MiBit/s"
   ]
  },
  {
   "cell_type": "markdown",
   "metadata": {
    "slideshow": {
     "slide_type": "slide"
    }
   },
   "source": [
    "### Nutz-Datenrate SD-SDI ?!\n",
    "\n"
   ]
  },
  {
   "cell_type": "markdown",
   "metadata": {},
   "source": [
    "<img src=\"https://upload.wikimedia.org/wikipedia/commons/3/32/CCD.png\">"
   ]
  },
  {
   "cell_type": "code",
   "execution_count": 4,
   "metadata": {
    "slideshow": {
     "slide_type": "slide"
    }
   },
   "outputs": [
    {
     "name": "stdout",
     "output_type": "stream",
     "text": [
      "207.36 Mbit/s\n",
      "197.75390625 Mibit/s\n"
     ]
    }
   ],
   "source": [
    "# Y Cb Cr 4:2:2 Chroma subsampling\n",
    "fps = 25\n",
    "HOR = 720\n",
    "VER = 576\n",
    "Bit = 10\n",
    "\n",
    "D = HOR * VER * 2 * Bit * fps  # Bits pro Sekunde\n",
    "print(D/1000/1000,\"Mbit/s\")  #/1000->kbit/s, /1000/1000->Mbit/s\n",
    "print(D/1024/1024,\"Mibit/s\")  #/1024->kiBit/s, /1024/1024->MiBit/s"
   ]
  },
  {
   "cell_type": "markdown",
   "metadata": {
    "slideshow": {
     "slide_type": "slide"
    }
   },
   "source": [
    "### Codierung-Datenrate SD-SDI"
   ]
  },
  {
   "cell_type": "code",
   "execution_count": 5,
   "metadata": {
    "slideshow": {
     "slide_type": "slide"
    }
   },
   "outputs": [
    {
     "name": "stdout",
     "output_type": "stream",
     "text": [
      "270.0 Mbit/s\n",
      "257.4920654296875 Mibit/s\n"
     ]
    }
   ],
   "source": [
    "# Y Cb Cr 4:2:2 Chroma subsampling\n",
    "fps = 25\n",
    "HOR = 864  # mehr Zeilen / Spalten als aktiv im Bild zu sehen\n",
    "VER = 625\n",
    "Bit = 10\n",
    "\n",
    "D = HOR * VER * 2 * Bit * fps  # Bits pro Sekunde\n",
    "print(D/1000/1000,\"Mbit/s\")  #/1000->kbit/s, /1000/1000->Mbit/s\n",
    "print(D/1024/1024,\"Mibit/s\")  #/1024->kiBit/s, /1024/1024->MiBit/s"
   ]
  },
  {
   "cell_type": "markdown",
   "metadata": {
    "slideshow": {
     "slide_type": "slide"
    }
   },
   "source": [
    "## Beispiel: High Definition Serial Digital Interface (HD-SDI)\n",
    "\n",
    "### Nutz-Datenrate HD-SDI"
   ]
  },
  {
   "cell_type": "code",
   "execution_count": 6,
   "metadata": {
    "slideshow": {
     "slide_type": "slide"
    }
   },
   "outputs": [
    {
     "name": "stdout",
     "output_type": "stream",
     "text": [
      "1036.8 Mbit/s\n",
      "988.76953125 Mibit/s\n"
     ]
    }
   ],
   "source": [
    "# Y Cb Cr 4:2:2 Chroma subsampling\n",
    "fps = 25\n",
    "HOR = 1920\n",
    "VER = 1080\n",
    "Bit = 10\n",
    "\n",
    "D = HOR * VER * 2 * Bit * fps  # Bits pro Sekunde\n",
    "print(D/1000/1000,\"Mbit/s\")  #/1000->kbit/s, /1000/1000->Mbit/s\n",
    "print(D/1024/1024,\"Mibit/s\")  #/1024->kiBit/s, /1024/1024->MiBit/s"
   ]
  },
  {
   "cell_type": "markdown",
   "metadata": {
    "slideshow": {
     "slide_type": "slide"
    }
   },
   "source": [
    "### Codierung-Datenrate HD-SDI"
   ]
  },
  {
   "cell_type": "code",
   "execution_count": 7,
   "metadata": {
    "slideshow": {
     "slide_type": "slide"
    }
   },
   "outputs": [
    {
     "name": "stdout",
     "output_type": "stream",
     "text": [
      "1.485 Gbit/s\n",
      "1.3830140233039856 Gibit/s\n"
     ]
    }
   ],
   "source": [
    "# Y Cb Cr 4:2:2 Chroma subsampling, NRZI-Code\n",
    "fps = 25\n",
    "HOR = 2640  # mehr Zeilen / Spalten als aktiv im Bild zu sehen\n",
    "VER = 1125\n",
    "Bit = 10\n",
    "\n",
    "D = HOR * VER * 2 * Bit * fps  # Bits pro Sekunde\n",
    "print(D/1000/1000/1000,\"Gbit/s\")  #/1000->kbit/s, /1000/1000->Mbit/s, /1000/1000/1000->Gbit/s\n",
    "print(D/1024/1024/1024,\"Gibit/s\")  #/1024->kiBit/s, /1024/1024->MiBit/s, /1024/1024/1024->GiBit/s\n"
   ]
  },
  {
   "cell_type": "markdown",
   "metadata": {
    "slideshow": {
     "slide_type": "slide"
    }
   },
   "source": [
    "## IT Übertragungsdatenraten\n",
    "\n",
    "* USB 3.0 -> 5 Gbit/s\n",
    "* Thunderbolt -> 40 Gbit/s\n",
    "* Ethernet -> 100-400 Gbits/s\n",
    "* LTE -> 1 Gbit/s"
   ]
  },
  {
   "cell_type": "markdown",
   "metadata": {
    "slideshow": {
     "slide_type": "slide"
    }
   },
   "source": [
    "# Probleme: Teilen von Ressourcen des Übertragungsmediums\n",
    "\n",
    "* sehr oft sind Sie nicht alleine auf einem Übertragungskanal\n",
    "* Ressourcen teilen siehe Frequenzmultiplex und Zeitmultiplex im Anhang\n",
    "* es braucht Regeln zum Datenverkehr, also z.B. wer spricht wann und wieviel; was passiert, wenn mehrere sprechen wollen und dann auch tatsächlich tun\n",
    "* daher **Standardisierung der Datenübertragung** zwingend erforderlich"
   ]
  },
  {
   "cell_type": "markdown",
   "metadata": {
    "slideshow": {
     "slide_type": "slide"
    }
   },
   "source": [
    "# Open Systems Interconnection Model (OSI)\n",
    "\n",
    "<img src=\"https://upload.wikimedia.org/wikipedia/commons/4/47/Osi-model-jb.svg\">\n",
    "https://upload.wikimedia.org/wikipedia/commons/4/47/Osi-model-jb.svg"
   ]
  },
  {
   "cell_type": "markdown",
   "metadata": {
    "slideshow": {
     "slide_type": "slide"
    }
   },
   "source": [
    "![](img/OSI_HubBridgeRouter.png)"
   ]
  },
  {
   "cell_type": "markdown",
   "metadata": {
    "slideshow": {
     "slide_type": "slide"
    }
   },
   "source": [
    "## OSI Layer 1, i.e. Point-to-Point\n",
    "\n",
    "### Standards\n",
    "\n",
    "* AES3 (AES/EBU)\n",
    "* AES10 (aka Multichannel Audio Digital Interface (**<font color='red'>MADI</font>**), Soundcraft, Studer, DiGiCo)\n",
    "* AES42 (digitale Mikrofone)\n",
    "\n",
    "* AES50 (aka High-Resolution Multi-Channel Audio Interconnection (HRMAI), Music Group, i.e. Behringer, Klark, Midas SuperMac/HyperMac\n",
    "* **<font color='red'>HD-SDI</font>**\n",
    "* SANE (Optocore) \n",
    "\n",
    "* DMX-512-A\n",
    "\n",
    "* Firewire\n",
    "* Thunderbolt\n",
    "* USB 2/3/C\n",
    "\n",
    "\n",
    "\n",
    "### Proprietär\n",
    "\n",
    "* A-Net (Aviom)\n",
    "* AudioRail"
   ]
  },
  {
   "cell_type": "markdown",
   "metadata": {
    "slideshow": {
     "slide_type": "slide"
    }
   },
   "source": [
    "## OSI Layer 2, i.e. Bridge-basiert mit MAC, aka AoE (Audio over Ethernet)\n",
    "\n",
    "### Standards\n",
    "\n",
    "* AES47 (Asynchronous transfer mode als Netzwerk, i.e. Telefon)\n",
    "\n",
    "* **<font color='green'>IEEE AVB/TSN</font>** (AVB...Audio Video Bridging, TSN...Time Sensitive Networking)\n",
    "\n",
    "[AVnu Alliance](https://avnu.org/) (Gründung: Cisco, Xilinx, Intel, Harman)\n",
    "\n",
    "**<font color='red'>Milan Protokoll</font>** (MeyerSound, L'Aoustics, d&b, Biamp)\n",
    "\n",
    "\n",
    "\n",
    "\n",
    "### Proprietär\n",
    "\n",
    "* CobraNet (Cirrus)\n",
    "* EtherSound (Digigram)\n",
    "* Digital Snake (Roland) \n",
    "* **<font color='red'>SoundGrid</font>** (Waves Audio)\n",
    "* **<font color='red'>RockNet</font>** (Riedel)\n",
    "* dSNAKE (Allen & Heath)\n",
    "\n",
    "### ReBranding\n",
    "\n",
    "* RAVE (QSC Audio, CobraNet)\n",
    "* NetCIRA (Fostex, EtherSound)"
   ]
  },
  {
   "cell_type": "markdown",
   "metadata": {
    "slideshow": {
     "slide_type": "slide"
    }
   },
   "source": [
    "## OSI Layer 3, i.e. IP-basiert mit MAC und IP-Protokoll, aka AoIP (Audio over IP)\n",
    "\n",
    "### Standards\n",
    "\n",
    "* **<font color='red'>AES67</font>** [Media Networking Alliance (MNA)](https://medianetworkingalliance.com/)\n",
    "\n",
    "Anbieter: [http://medianetworkingalliance.com/wp-content/uploads/2017/12/AES67-Products-by-Category-09-January-2018.xlsx](http://medianetworkingalliance.com/wp-content/uploads/2017/12/AES67-Products-by-Category-09-January-2018.xlsx)\n",
    "\n",
    "### Proprietär\n",
    "\n",
    "* **<font color='red'>Dante</font>** (Audinate)\n",
    "* Ravenna (ALC NetworX)\n",
    "* Livewire (Axia Audio)\n",
    "* Q-LAN (QSC)\n",
    "* JACK Audio Connection Kit\n",
    "\n",
    "### ReBranding\n",
    "\n",
    "* OMNEO (Bosch, Dante+Control Protokoll)\n",
    "* Audio and Control over Ethernet (ACE by Allen & Heath, Dante?+Control Protokoll)\n"
   ]
  },
  {
   "cell_type": "markdown",
   "metadata": {
    "slideshow": {
     "slide_type": "slide"
    }
   },
   "source": [
    "# Summary: Communications Jungle\n",
    "\n",
    "![Übertragungs-Dschungel](img/cloud_unsorted.png)"
   ]
  },
  {
   "cell_type": "markdown",
   "metadata": {
    "slideshow": {
     "slide_type": "slide"
    }
   },
   "source": [
    "# Summary: It's complicated but...\n",
    "\n",
    "![AV-Übertragung geordnet nach OSI-Layern](img/cloud_sorted.png)"
   ]
  },
  {
   "cell_type": "markdown",
   "metadata": {
    "slideshow": {
     "slide_type": "slide"
    }
   },
   "source": [
    "# Outlook\n",
    "It is very likely\n",
    "\n",
    "* Layer 2 Protocols (AVoe) will be the future for AV networks \n",
    "* LTE next generation will be the future for professional wireless technology"
   ]
  },
  {
   "cell_type": "markdown",
   "metadata": {
    "slideshow": {
     "slide_type": "slide"
    }
   },
   "source": [
    "# Literaturempfehlungen\n",
    "\n",
    "## Artikel\n",
    "\n",
    "* AES White Paper (2009): \"[Best Practices in Network Audio](http://www.aes.org/technical/documents/AESTD1003V1.pdf)\" in Journal of the Audio Engineering Society, Vol. 57, Number 9, Pages 729-741. \n",
    "\n",
    "* https://en.wikipedia.org/wiki/Comparison_of_audio_network_protocols\n",
    "\n",
    "* *Milan - ein Protokoll für professionelle AV-Anwendungen* in [Production Partner 09/2018, S.14-29](https://www.musik-media-shop.de/production-partner-9-2018-digitale-vernetzung-time-sensitive-networking-tipps-gegen-netzwerktod-milan-zukunft-von-avb-glasfaser-handling-format-perspektiven)\n",
    "\n",
    "* *Titelverteidiger: Dante, AES67, Ravenna* in [Production Partner 09/2018, S.32-33](https://www.musik-media-shop.de/production-partner-9-2018-digitale-vernetzung-time-sensitive-networking-tipps-gegen-netzwerktod-milan-zukunft-von-avb-glasfaser-handling-format-perspektiven)\n",
    "\n",
    "* Yamaha 2014: [Einführung in die Audiovernetzung](https://download.yamaha.com/files/tcm:39-322554)\n",
    "\n",
    "* https://en.wikipedia.org/wiki/Audio_over_Ethernet\n",
    "\n",
    "* Lawo: [IP Networking Guide for Video and Audio Applications](https://www.lawo.de/support/know-how/ip-networking-guide.html)\n",
    "\n",
    "## Bücher\n",
    "* Stefan Weinzierl, [Handbuch der Audiotechnik](https://www.springer.com/de/book/9783540343004), Springer, 2008\n",
    "* Ulrich Schmidt, [Professionelle Videotechnik](https://www.springer.com/de/book/9783642389917), Springer, 2013\n",
    "* Jens-Rainer Ohm, [Multimedia Signal Coding and Transmission](https://www.springer.com/de/book/9783662466902), Springer 2015\n",
    "* Steve Church, Skip Pizzi, [Audio over IP](https://www.sciencedirect.com/book/9780240812441/audio-over-ip), Focal, 2010\n",
    "\n",
    "## Zeitschriften (Produktionen, KnowHow)\n",
    "\n",
    "* [Production Partner](https://www.production-partner.de/)\n",
    "* [pma](https://www.pma-magazin.de/)\n",
    "* [VPLT Magazin](https://www.vplt.org/vplt-magazin)\n",
    "* [Event Partner](https://www.event-partner.de/)\n",
    "* [Professional System](https://www.professional-system.de/)"
   ]
  },
  {
   "cell_type": "markdown",
   "metadata": {
    "slideshow": {
     "slide_type": "-"
    }
   },
   "source": [
    "# Anhang: Fourierreihe Synthese\n",
    "\n",
    "## Fourier-Synthese Formel\n",
    "\n",
    "Jedes periodische, zeitkontinuierliche Signal $x(t)$ kann erzeugt werden durch\n",
    "\n",
    "$x(t) = \\frac{a_0}{2} + \\sum\\limits_{k=1}^{\\infty} [a_k \\cos(k \\omega_0 t) + b_k \\sin(k \\omega_0 t)]$\n",
    "\n",
    "mit Grundschwingung der Frequenz $f_0$, Periodendauer $T_0 = \\frac{1}{f_0}$ und Kreisfrequenz $\\omega_0=2 \\pi f_0$\n",
    "\n",
    "## Fourier-Analyse Formeln\n",
    "\n",
    "Jedes periodische, zeitkontinuierliche Signal $x(t)$ kann analysiert werden auf sein Grundschwingungs- und Oberschwingungsgehalt mit:\n",
    "\n",
    "* für den Gleichanteil\n",
    "\n",
    "$a_0 = \\frac{2}{T_0} \\int\\limits_{t}^{t+T_0} x(t) \\, \\mathrm{d}t$\n",
    "\n",
    "* für gerade/axialsymmetrische Signalanteile\n",
    "\n",
    "$a_k = \\frac{2}{T_0} \\int\\limits_{t}^{t+T_0} x(t) \\cos(k \\omega_0 t) \\, \\mathrm{d}t$\n",
    "\n",
    "* für ungerade/punktsymmetrische Signalanteile\n",
    "\n",
    "$b_k = \\frac{2}{T_0} \\int\\limits_{t}^{t+T_0} x(t) \\sin(k \\omega_0 t) \\, \\mathrm{d}t$\n",
    "\n",
    "* das Linienspektrum, also der Betrag über die Frequenz $f_k = k \\cdot f_0$ ist gegeben durch\n",
    "\n",
    "$A_k = \\sqrt{a_k+b_k}$\n",
    "\n",
    "\n",
    "## Beispiel: Rechtecktastfolge\n",
    "\n",
    "siehe [Papula, Mathe Anwendungsbeispiele, Kap. V, Bsp. 13](http://doi.org/10.1007/978-3-8348-2129-4)"
   ]
  },
  {
   "cell_type": "code",
   "execution_count": 8,
   "metadata": {
    "slideshow": {
     "slide_type": "-"
    }
   },
   "outputs": [
    {
     "data": {
      "image/png": "[encoded data removed]",
      "text/plain": [
       "<Figure size 720x720 with 2 Axes>"
      ]
     },
     "metadata": {},
     "output_type": "display_data"
    }
   ],
   "source": [
    "import matplotlib.pyplot as plt # Pakete zum Plotten\n",
    "# Plots direkt hier erzeugen:\n",
    "%matplotlib inline  \n",
    "import numpy as np  # Pakete für Arrays und Vektoren\n",
    "\n",
    "### Definition Signalcharakteristik ###\n",
    "\n",
    "f0 = 1  # Grundfrequenz in Hz\n",
    "T0 = 1 / f0  # Periodendauer in s\n",
    "w0 = 2 * np.pi * f0  # Kreisfrequenz in rad/s\n",
    "\n",
    "TB = T0 * 1/5  # Tastbreite in s, könnte dann z.B. eine 1 0 0 0, 1 0 0 0, 1 0 0 0...usw Bitfolgemuster sein  \n",
    "A = 2  # Signalhub\n",
    "NHarm = 30  # Anzahl der Harmonischen für Fourier-Synthese\n",
    "\n",
    "### Vorbereitung Variablen ###\n",
    "\n",
    "tmax = 3  # Zeitdauer in s\n",
    "fs = 48000  # Abtastfrequenz in Hz, check ob 1/fs<<T0\n",
    "t = np.linspace(0, tmax, tmax * fs)  # Zeitverlauf in s\n",
    "\n",
    "x = t * 0  # Signal\n",
    "ak = np.zeros(NHarm+1)  # Fourier Koeffizienten\n",
    "f = np.zeros(NHarm+1)  # Frequenz in Hz\n",
    "\n",
    "### Synthese axialsymmetrisches Rechteck-Signal (nur cos-Schwingungen) ###\n",
    "\n",
    "# Gleichanteil:\n",
    "ak[0] = A * TB/2 * w0/np.pi - A/2; # gleichanteilfrei\n",
    "# fülle Vektoren für Gleichanteil\n",
    "f[0] = 0\n",
    "x = x + ak[0]\n",
    "# Summiere über alle anderen Harmonischen:\n",
    "for k in range(1,NHarm+1):\n",
    "    f[k] = k * f0  # berechne aktuelle Frequenz\n",
    "    ak[k] = A * 2/np.pi * np.sin(2 * np.pi * f[k] * TB/2) / k  # berechne aktuellen Fourierkoeffizienten\n",
    "    x = x + ak[k]*np.cos(2 * np.pi * f[k] * t)  # überlagere cos-Schwingung mit aktueller Amplitude ak und Frequenz f\n",
    "\n",
    "### grafische Darstellung ###\n",
    "fig = plt.figure(figsize=(10,10))\n",
    "plt.subplot(211)\n",
    "plt.xlabel(r'$t$ / s')\n",
    "plt.ylabel(r'$x(t)$')\n",
    "plt.plot(t,x,'-k')  # Zeitverlauf\n",
    "plt.grid()\n",
    "plt.title('periodisches, zeit- und wertekontinuierliches Signal x(t) durch Fourier-Synthese')\n",
    "plt.ylim(-A/2*1.25,+A/2*1.25)\n",
    "plt.xlim(0, tmax)\n",
    "\n",
    "plt.subplot(212)\n",
    "plt.xlabel(r'$f$ / Hz')\n",
    "plt.ylabel(r'$|A_k|_{x(t)}$')\n",
    "plt.stem(f,np.abs(ak), '-k')  # Betragslinienspektrum, hier nur ak, daher sqrt(ak^2+bk^2) -> |ak| \n",
    "plt.grid()\n",
    "plt.title('Betragslinienspektrum von x(t)')\n",
    "plt.ylim(0, A/2*1.4)\n",
    "plt.xlim(0, NHarm*f0)\n",
    "\n",
    "plt.show()"
   ]
  },
  {
   "cell_type": "markdown",
   "metadata": {
    "slideshow": {
     "slide_type": "-"
    }
   },
   "source": [
    "# Anhang: Pegel dBFS RMS / PEAK\n",
    "\n",
    "* Üblich: 0 dBFS entsprechen dem Pegel eines maximal vollausgesteuerten Signals. Es gibt keine Pegel größer 0 dBFS.\n",
    "\n",
    "Sinnvoll ist es zu definieren:\n",
    "\n",
    "* RMS-Pegel $20\\log_{10}(\\frac{x_\\text{RMS}}{1})$ in $\\text{dBFS}_\\text{RMS}$\n",
    "* Peak-Pegel $20\\log_{10}(\\frac{x_\\text{Peak}}{1})$ in $\\text{dBFS}_\\text{Peak}$\n",
    "\n",
    "Dann lässt sich der übliche dBFS-Pegel, welcher ursprünglich für Sinussignale definiert ist, linken zu\n",
    "\n",
    "* $0 \\text{dBFS}_\\text{Peak} = 0 \\text{dBFS}$\n",
    "\n",
    "Für ein zeitdiskretes Sinussignal $x[n] = sin(\\Omega n)$ gilt mit Amplitude $x_\\text{Peak} = 1$ und Effektivwert $x_\\text{RMS}=1/\\sqrt{2}$ (und $\\Omega\\ll \\pi$ nach Abtasttheorem) dann\n",
    "\n",
    "* Sinus RMS-Pegel $20\\log_{10}(\\frac{1/\\sqrt{2}}{1})$ = $-3 \\text{dBFS}_\\text{RMS}$\n",
    "* Sinus Peak-Pegel $20\\log_{10}(\\frac{1}{1})$ = $0 \\text{dBFS}_\\text{Peak}$\n",
    "\n",
    "Diese Konvention hat den Vorteil, dass Signalenergie und Signalamplitude getrennt spezifiziert werden können und daraus der sogenannte CrestFaktor zu Peak-Pegel - RMS-Pegel berechnet werden kann, für Sinus also 3 dB.\n",
    "\n",
    "Beim Rechtecksignal ist wegen $x_\\text{Peak} = x_\\text{RMS}$ der CrestFaktor 0 dB, also Peak und RMS Pegel gleich groß.\n",
    "\n",
    "Für typische Musik/Sprachsignale beträgt der CrestFaktor zwischen 20-40 dB und 4-6 dB, letzteres für sehr laut gemasterte Musik.\n",
    "\n",
    "Die Konvention erlaubt auch RMS- und Peak-Werte größer zum (wilkürlich) gewählten Bezugswert 1, was dann zu positiven $\\text{dBFS}_\\text{RMS}$ und $\\text{dBFS}_\\text{Peak}$ führt. Dies kann bei interner Signaverrabeitung einer DAW bei Gleitkommazahlendarstellung nützlich sein, wo Samples durchaus Werte größer 1 annehmen können, solange sie vor der DA-Wandlung wieder abgesenkt werden unter 0."
   ]
  },
  {
   "cell_type": "markdown",
   "metadata": {
    "slideshow": {
     "slide_type": "-"
    }
   },
   "source": [
    "# Anhang: Basisbandsignale vs. Bandpasssignale\n",
    "\n",
    "Modulation von Basisband in anderes Frequenzband, gleichzeitige Nutzung mehrerer Frequenzbänder\n",
    "\n",
    "![Frequenzmultiplex](img/FMulti.png)"
   ]
  },
  {
   "cell_type": "markdown",
   "metadata": {
    "slideshow": {
     "slide_type": "-"
    }
   },
   "source": [
    "### Beispiel: Bandpasssignale für Luftübertragung Digitale Dividende im HF-Funk\n",
    "\n",
    "![Digitale Dividende](img/HF_Dividende.png)\n",
    "\n",
    "Abb 6.3 aus [Frank Pieper: Das P.A. Handbuch, 5. Auflage, GCCarstensen, München, 2015](https://www.gccarstensen.de/buecher/das_p_a_handbuch)\n",
    "\n",
    "<img src=\"https://upload.wikimedia.org/wikipedia/de/timeline/567a479f5cf164c141525f7c827d3f44.png\" alt=\"Digitale Dividende 1\">\n",
    "\n",
    "<img src=\"https://upload.wikimedia.org/wikipedia/de/timeline/3d3021e962957575438308bb5e0c529c.png\" alt=\"Digitale Dividende 2\">\n",
    "\n",
    "siehe https://de.wikipedia.org/wiki/Digitale_Dividende"
   ]
  },
  {
   "cell_type": "markdown",
   "metadata": {
    "slideshow": {
     "slide_type": "-"
    }
   },
   "source": [
    "# Anhang: Basisbandsignale zeitlich verschachtelt\n",
    "\n",
    "Video Zeitmultiplex Composite Schematisch. \n",
    "\n",
    "Beachten Sie, dass in der Praxis Bilder Y Cb Cr anders übertragen werden.\n",
    "\n",
    "![Zeitmultiplex](img/TMulti.png)\n",
    "Foto aus https://en.wikipedia.org/wiki/YCbCr"
   ]
  },
  {
   "cell_type": "markdown",
   "metadata": {
    "slideshow": {
     "slide_type": "-"
    }
   },
   "source": [
    "# Anhang: Übertragungsmedien\n",
    "\n",
    "* Bandbreite\n",
    "* Kanalkapazität\n",
    "\n",
    "## Eigenschaften \n",
    " \n",
    "### Luft\n",
    "\n",
    "\n",
    "### Kupfer\n",
    "\n",
    "Vermeidung von Reflexionen und Leistungsanpassung durch Abschlusswiderstand 75 / 110 / 120 Ohm\n",
    "\n",
    "Ethernet CAT5/6 (Shielded Twisted Pair), Coax (Unsym+Ground), XLR (Sym+Ground)\n",
    "\n",
    "### Glas\n",
    "\n",
    "Single Mode, Multimode"
   ]
  },
  {
   "cell_type": "markdown",
   "metadata": {
    "slideshow": {
     "slide_type": "-"
    }
   },
   "source": [
    "## Beispiel: 3G/6G/12G Serial Digital Interface als reines Audio-Interface?!?!"
   ]
  },
  {
   "cell_type": "code",
   "execution_count": 9,
   "metadata": {
    "slideshow": {
     "slide_type": "-"
    }
   },
   "outputs": [
    {
     "name": "stdout",
     "output_type": "stream",
     "text": [
      "für Nutzlast theoretisch Platz für 7812.5 Audiokanäle\n"
     ]
    }
   ],
   "source": [
    "B = 32  # Bit pro Sample\n",
    "fs = 48000  # Abtastfrequenz\n",
    "Ch = 64  # Anzahl Kanäle\n",
    "D = 12 * 1000 * 1000 * 1000  # Bandbreite Bit / s\n",
    "\n",
    "Ch = D/B/fs\n",
    "print(\"für Nutzlast theoretisch Platz für\", Ch, \"Audiokanäle\")"
   ]
  },
  {
   "cell_type": "markdown",
   "metadata": {
    "slideshow": {
     "slide_type": "-"
    }
   },
   "source": [
    "## Beispiel: Welches Medium?"
   ]
  },
  {
   "cell_type": "code",
   "execution_count": 10,
   "metadata": {
    "slideshow": {
     "slide_type": "-"
    }
   },
   "outputs": [
    {
     "name": "stdout",
     "output_type": "stream",
     "text": [
      "1.4112 Mbit/s\n"
     ]
    }
   ],
   "source": [
    "print(16*2*44100 /1000/1000,\"Mbit/s\")"
   ]
  },
  {
   "cell_type": "markdown",
   "metadata": {
    "slideshow": {
     "slide_type": "-"
    }
   },
   "source": [
    "# Signal: Ton vs. Klang, Bild vs. Video\n",
    "\n",
    "* Signal: Träger von Information durch zeitliche/räumliche Veränderung von Parametern einer physikalischen Größe, z.B. Amplitude und Frequenz\n",
    "\n",
    "* Information für **Ton** vs. Information für **Klang**, **Musik*, **Sprache**, bzw. **Audio** allgemein\n",
    "\n",
    "* Information für **Bild** vs. Information für **Video**"
   ]
  },
  {
   "cell_type": "markdown",
   "metadata": {
    "slideshow": {
     "slide_type": "-"
    }
   },
   "source": [
    "## Quellencodierung\n",
    "\n",
    "* Irrelevanz komlett weg, die Emfpänger sowieso nicht auswerten kann\n",
    "* Redundanz raus, die Empfänger wiederherstellen kann\n",
    "* möglichst kompakt und für Senke ausreichend genau darstellen -> das weiss aber nur der Quellencodierer\n",
    "\n",
    "Beispiele: \n",
    "\n",
    "* Transformationscodierung, Signal ist z.B. als Spektrum dargestellt viel effizienter zu codieren (mp3)\n",
    "* Ausnutzen Psychophysik der Senke (mp3, RGB -> YCbCr)\n",
    "* loss / losless Datenkompression\n",
    "\n",
    "Frage: mp3 laut über PA?!?!\n",
    "\n",
    "## Kanalcodierung\n",
    "\n",
    "* Übertragung ist prinzipiell fehlerbehaftet (*Bits raten auf Grund von Wahrscheinlichkeiten*)\n",
    "* Kanalcodierung fügt dem quellcodierten Signal spezielle Redundanz hinzu, die Fehlerkorrektur beim Empfänger ermöglichen, Stichwort: fehlerkorrigierende Codes\n",
    "* Empfänger muss dazu über Kenntnis verfügen, wie die 'technische' Redundanz erzeugt wurde, um diese rückgängig zu machen und einhergehend auftretende Fehler zu korrigieren\n",
    "* da annähernd alle Datenübertragungen außerhalb von Rechnern ohne extra Taktleitung verfügen, sollte der Kanalcodierer einen Bitstrom erzeugen, aus dem der Takt rückerzeugt werden kann, weil zeitliche Lage von Flanken und spezielle Bitmuster (Frames) erkennbar ist\n",
    "\n",
    "## Leitungscodierung\n",
    "\n",
    "* bestmögliche Anpassung an das gewählte Übertragungsmedium\n",
    "* meist Gleichspannungsfreiheit gefordert\n",
    "* kleinstmögliche Bandbreite bei möglichst tiefer Frequenz (weil Dämpfung bei niedrigen Frequenzen kleiner als bei hohen)\n",
    "* Übertragung geschieht mit elektro-magnetischen Wellen, d.h. analog"
   ]
  },
  {
   "cell_type": "markdown",
   "metadata": {
    "slideshow": {
     "slide_type": "-"
    }
   },
   "source": [
    "# Netzwerk Topologien\n",
    "\n",
    "![Netzwerk Topologien](img/NetzwerkTopologien.png)\n",
    "\n",
    "<img src=\"https://upload.wikimedia.org/wikipedia/commons/9/97/NetworkTopologies.svg\">\n",
    "\n",
    "siehe https://de.wikipedia.org/wiki/Topologie_(Rechnernetz)#/media/File:NetzwerkTopologien.png"
   ]
  },
  {
   "cell_type": "markdown",
   "metadata": {
    "slideshow": {
     "slide_type": "-"
    }
   },
   "source": [
    "### Codierung-Datenrate MADI\n",
    "\n",
    "* MADI benutzt Direkt Code, besser bekannt als Non-Return-to-Zero (NRZ)\n",
    "* für Redundanzerhöhung und damit möglicher Fehlerkorrektur wird ein 4B/5B Code verwendet\n",
    "* d.h. 4 Bits werden durch geschickte Wahl mit 5 Bits codiert, so dass bestimmte Bitmuster, die durch Störungen entstehen und im Codemuster gar nicht auftreten könnnen, detektiert und korrigiert werden können\n",
    "* Takt ist uU nicht selbsttaktend, daher braucht MADI theoretisch Word Clock, z.B. einen 'leeren' AES3 (AES/EBU) Datenstrom\n",
    "* in der Praxis funktioniert Selbstatktung ok"
   ]
  },
  {
   "cell_type": "code",
   "execution_count": 11,
   "metadata": {
    "scrolled": true,
    "slideshow": {
     "slide_type": "-"
    }
   },
   "outputs": [
    {
     "name": "stdout",
     "output_type": "stream",
     "text": [
      "122.88 Mbit/s\n",
      "117.1875 Mibit/s\n"
     ]
    }
   ],
   "source": [
    "B = 32/4*5  # Bit pro Sample durch 4B5B Codierung, d.h. 4 Bit durch 5 Bit dargestellt\n",
    "fs = 48000  # Abtastfrequenz\n",
    "Ch = 64  # Anzahl Kanäle\n",
    "\n",
    "D = B*fs*Ch  # Bits pro Sekunde\n",
    "print(D/1000/1000,\"Mbit/s\")  #/1000->kbit/s, /1000/1000->Mbit/s\n",
    "print(D/1024/1024,\"Mibit/s\")  #/1024->kiBit/s, /1024/1024->MiBit/s"
   ]
  },
  {
   "cell_type": "markdown",
   "metadata": {
    "slideshow": {
     "slide_type": "-"
    }
   },
   "source": [
    "## Beispiel: Standard Definition Serial Digital Interface (SD-SDI)\n",
    "\n",
    "* SD-SDI benutzt NRZI, d.h. ein Zwischending zwischen dem obigen Direkt Code (Non-Return-to-Zero (NRZ)) und Coded Mark Inversion, nämlich toggle 0 auf halbe Flanke und 1 auf High\n",
    "* für Fehlerrobustheit und Selbsttaktung wird der Bitstrom verwürfelt, so dass er auf dem Kanal zufällig erscheint, kennt die Senke den Entschlüsselungscode, kann die ursprüngliche Bitfolge rekonstruiert werden"
   ]
  }
 ],
 "metadata": {
  "celltoolbar": "Slideshow",
  "kernelspec": {
   "display_name": "Python 3",
   "language": "python",
   "name": "python3"
  },
  "language_info": {
   "codemirror_mode": {
    "name": "ipython",
    "version": 3
   },
   "file_extension": ".py",
   "mimetype": "text/x-python",
   "name": "python",
   "nbconvert_exporter": "python",
   "pygments_lexer": "ipython3",
   "version": "3.6.5"
  }
 },
 "nbformat": 4,
 "nbformat_minor": 2
}
