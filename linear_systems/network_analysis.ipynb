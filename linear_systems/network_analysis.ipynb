{
 "cells": [
  {
   "cell_type": "markdown",
   "metadata": {
    "nbsphinx": "hidden"
   },
   "source": [
    "# Characterization of One-Dimensional Systems by Differential Equations\n",
    "\n",
    "*This Jupyter notebook is part of a [collection of notebooks](../index.ipynb) in the masters course Selected Topics in Audio Signal Processing, Communications Engineering, Universität Rostock. Please direct questions and suggestions to [Sascha.Spors@uni-rostock.de](mailto:Sascha.Spors@uni-rostock.de).*"
   ]
  },
  {
   "cell_type": "markdown",
   "metadata": {},
   "source": [
    "## Analysis of a Passive Electrical Network\n",
    "\n",
    "[Electrical networks](https://en.wikipedia.org/wiki/Electrical_network) composed of linear passive elements, like resistors, capacitors and inductors can be described by linear ordinary differential equations (ODEs) with constant coefficients. Hence, in view of the theory of signals and systems they can be interpreted as a linear time-invariant (LTI) system. The different ways to characterize the properties of an LTI system introduced before are illustrated at the example of a second-order analog [low-pass filter](https://en.wikipedia.org/wiki/Low-pass_filter).\n",
    "\n",
    "![2nd-order analog lowpass filter](lowpass.png)\n",
    "\n",
    "It is assumed that no energy is stored in the capacitor and inductor for $t<0$. It is furthermore assumed that $x(t) = 0$ for $t<0$. Hence $y(t) = 0$ and $\\frac{d y(t)}{dt} = 0$ for $t<0$. For illustration, the normalized values $L = .5$, $R = 1$, $C = .4$ are used for the elements of the electrical network."
   ]
  },
  {
   "cell_type": "markdown",
   "metadata": {},
   "source": [
    "### Differential Equation\n",
    "\n",
    "The differential equation describing the input/output relation of the electrical network is derived by applying [Kirchhoff's circuit laws](https://en.wikipedia.org/wiki/Kirchhoff's_circuit_laws) to the network. This results in the following ODE\n",
    "\n",
    "\\begin{equation}\n",
    "C L \\frac{d^2 y(t)}{dt^2} + C R \\frac{d y(t)}{dt} + y(t) = x(t)\n",
    "\\end{equation}\n",
    "\n",
    "This ODE is defined in `SymPy`"
   ]
  },
  {
   "cell_type": "code",
   "execution_count": 1,
   "metadata": {},
   "outputs": [
    {
     "data": {
      "image/png": "[encoded data removed]",
      "text/latex": [
       "$$C L \\frac{d^{2}}{d t^{2}}  y{\\left (t \\right )} + C R \\frac{d}{d t} y{\\left (t \\right )} + y{\\left (t \\right )} = x{\\left (t \\right )}$$"
      ],
      "text/plain": [
       "      2                                   \n",
       "     d              d                     \n",
       "C⋅L⋅───(y(t)) + C⋅R⋅──(y(t)) + y(t) = x(t)\n",
       "      2             dt                    \n",
       "    dt                                    "
      ]
     },
     "execution_count": 1,
     "metadata": {},
     "output_type": "execute_result"
    }
   ],
   "source": [
    "%matplotlib inline\n",
    "import sympy as sym\n",
    "sym.init_printing()\n",
    "\n",
    "t, L, R, C = sym.symbols('t L R C', real=True)\n",
    "x = sym.Function('x')(t)\n",
    "y = sym.Function('y')(t)\n",
    "\n",
    "ode = sym.Eq(L*C*y.diff(t, 2) + R*C*y.diff(t) + y, x)\n",
    "ode"
   ]
  },
  {
   "cell_type": "markdown",
   "metadata": {},
   "source": [
    "The normalized values of the network elements are stored in a dictionary for substitution"
   ]
  },
  {
   "cell_type": "code",
   "execution_count": 2,
   "metadata": {},
   "outputs": [
    {
     "data": {
      "image/png": "[encoded data removed]",
      "text/latex": [
       "$$\\left \\{ C : \\frac{2}{5}, \\quad L : \\frac{1}{2}, \\quad R : 1\\right \\}$$"
      ],
      "text/plain": [
       "{C: 2/5, L: 1/2, R: 1}"
      ]
     },
     "execution_count": 2,
     "metadata": {},
     "output_type": "execute_result"
    }
   ],
   "source": [
    "RLC = {R: 1, L: sym.Rational('.5'), C: sym.Rational('.4')}\n",
    "RLC"
   ]
  },
  {
   "cell_type": "markdown",
   "metadata": {},
   "source": [
    "### Impulse Response\n",
    "\n",
    "The passive electrical network and the ODE describing its input/output relation can be interpreted as an LTI system. Hence, the system can be characterized by its [impulse response](impulse_response.ipynb) $h(t)$ which is defined as the output of the system for a Dirac impulse $x(t) = \\delta(t)$ at the input. For the given system, the impulse response is calculated by explicit solution of the ODE"
   ]
  },
  {
   "cell_type": "code",
   "execution_count": 3,
   "metadata": {},
   "outputs": [
    {
     "data": {
      "image/png": "[encoded data removed]",
      "text/latex": [
       "$$h{\\left (t \\right )} = C_{1} e^{\\frac{t}{2 L} \\left(- R - \\frac{1}{C} \\sqrt{C \\left(C R^{2} - 4 L\\right)}\\right)} + C_{2} e^{\\frac{t}{2 L} \\left(- R + \\frac{1}{C} \\sqrt{C \\left(C R^{2} - 4 L\\right)}\\right)} - \\frac{\\theta\\left(t\\right)}{\\sqrt{C \\left(C R^{2} - 4 L\\right)}} e^{\\frac{t}{2 L} \\left(- R - \\frac{1}{C} \\sqrt{C \\left(C R^{2} - 4 L\\right)}\\right)} + \\frac{\\theta\\left(t\\right)}{\\sqrt{C \\left(C R^{2} - 4 L\\right)}} e^{\\frac{t}{2 L} \\left(- R + \\frac{1}{C} \\sqrt{C \\left(C R^{2} - 4 L\\right)}\\right)}$$"
      ],
      "text/plain": [
       "                                                                              \n",
       "             ⎛        ________________⎞         ⎛        ________________⎞    \n",
       "             ⎜       ╱   ⎛   2      ⎞ ⎟         ⎜       ╱   ⎛   2      ⎞ ⎟    \n",
       "             ⎜     ╲╱  C⋅⎝C⋅R  - 4⋅L⎠ ⎟         ⎜     ╲╱  C⋅⎝C⋅R  - 4⋅L⎠ ⎟    \n",
       "           t⋅⎜-R - ───────────────────⎟       t⋅⎜-R + ───────────────────⎟    \n",
       "             ⎝              C         ⎠         ⎝              C         ⎠    \n",
       "           ────────────────────────────       ────────────────────────────    \n",
       "                       2⋅L                                2⋅L                ℯ\n",
       "h(t) = C₁⋅ℯ                             + C₂⋅ℯ                             - ─\n",
       "                                                                              \n",
       "                                                                              \n",
       "                                                                              \n",
       "\n",
       "  ⎛        ________________⎞                   ⎛        ________________⎞     \n",
       "  ⎜       ╱   ⎛   2      ⎞ ⎟                   ⎜       ╱   ⎛   2      ⎞ ⎟     \n",
       "  ⎜     ╲╱  C⋅⎝C⋅R  - 4⋅L⎠ ⎟                   ⎜     ╲╱  C⋅⎝C⋅R  - 4⋅L⎠ ⎟     \n",
       "t⋅⎜-R - ───────────────────⎟                 t⋅⎜-R + ───────────────────⎟     \n",
       "  ⎝              C         ⎠                   ⎝              C         ⎠     \n",
       "────────────────────────────                 ────────────────────────────     \n",
       "            2⋅L                                          2⋅L                  \n",
       "                            ⋅Heaviside(t)   ℯ                            ⋅Heav\n",
       "───────────────────────────────────────── + ──────────────────────────────────\n",
       "             ________________                             ________________    \n",
       "            ╱   ⎛   2      ⎞                             ╱   ⎛   2      ⎞     \n",
       "          ╲╱  C⋅⎝C⋅R  - 4⋅L⎠                           ╲╱  C⋅⎝C⋅R  - 4⋅L⎠     \n",
       "\n",
       "        \n",
       "        \n",
       "        \n",
       "        \n",
       "        \n",
       "        \n",
       "        \n",
       "iside(t)\n",
       "────────\n",
       "        \n",
       "        \n",
       "        "
      ]
     },
     "execution_count": 3,
     "metadata": {},
     "output_type": "execute_result"
    }
   ],
   "source": [
    "solution_h = sym.dsolve(ode.subs(x, sym.DiracDelta(t)).subs(y, sym.Function('h')(t)))\n",
    "solution_h"
   ]
  },
  {
   "cell_type": "markdown",
   "metadata": {},
   "source": [
    "The integration constants $C_1$ and $C_2$ have to be determined from the initial conditions $y(t) = 0$ and $\\frac{d y(t)}{dt} = 0$ for $t<0$. "
   ]
  },
  {
   "cell_type": "code",
   "execution_count": 4,
   "metadata": {},
   "outputs": [
    {
     "data": {
      "image/png": "[encoded data removed]",
      "text/latex": [
       "$$\\left \\{ C_{1} : 0, \\quad C_{2} : 0\\right \\}$$"
      ],
      "text/plain": [
       "{C₁: 0, C₂: 0}"
      ]
     },
     "execution_count": 4,
     "metadata": {},
     "output_type": "execute_result"
    }
   ],
   "source": [
    "integration_constants = sym.solve( (solution_h.rhs.limit(t, 0, '-'), solution_h.rhs.diff(t).limit(t, 0, '-')), ['C1', 'C2'] )\n",
    "integration_constants"
   ]
  },
  {
   "cell_type": "markdown",
   "metadata": {},
   "source": [
    "Substitution of the values for the integration constants $C_1$ and $C_2$ into the result from above yields the impulse response of the low-pass"
   ]
  },
  {
   "cell_type": "code",
   "execution_count": 5,
   "metadata": {},
   "outputs": [
    {
     "data": {
      "image/png": "[encoded data removed]",
      "text/latex": [
       "$$- \\frac{\\theta\\left(t\\right)}{\\sqrt{C \\left(C R^{2} - 4 L\\right)}} e^{\\frac{t}{2 L} \\left(- R - \\frac{1}{C} \\sqrt{C \\left(C R^{2} - 4 L\\right)}\\right)} + \\frac{\\theta\\left(t\\right)}{\\sqrt{C \\left(C R^{2} - 4 L\\right)}} e^{\\frac{t}{2 L} \\left(- R + \\frac{1}{C} \\sqrt{C \\left(C R^{2} - 4 L\\right)}\\right)}$$"
      ],
      "text/plain": [
       "     ⎛        ________________⎞                   ⎛        ________________⎞  \n",
       "     ⎜       ╱   ⎛   2      ⎞ ⎟                   ⎜       ╱   ⎛   2      ⎞ ⎟  \n",
       "     ⎜     ╲╱  C⋅⎝C⋅R  - 4⋅L⎠ ⎟                   ⎜     ╲╱  C⋅⎝C⋅R  - 4⋅L⎠ ⎟  \n",
       "   t⋅⎜-R - ───────────────────⎟                 t⋅⎜-R + ───────────────────⎟  \n",
       "     ⎝              C         ⎠                   ⎝              C         ⎠  \n",
       "   ────────────────────────────                 ────────────────────────────  \n",
       "               2⋅L                                          2⋅L               \n",
       "  ℯ                            ⋅Heaviside(t)   ℯ                            ⋅H\n",
       "- ────────────────────────────────────────── + ───────────────────────────────\n",
       "                ________________                             ________________ \n",
       "               ╱   ⎛   2      ⎞                             ╱   ⎛   2      ⎞  \n",
       "             ╲╱  C⋅⎝C⋅R  - 4⋅L⎠                           ╲╱  C⋅⎝C⋅R  - 4⋅L⎠  \n",
       "\n",
       "           \n",
       "           \n",
       "           \n",
       "           \n",
       "           \n",
       "           \n",
       "           \n",
       "eaviside(t)\n",
       "───────────\n",
       "           \n",
       "           \n",
       "           "
      ]
     },
     "execution_count": 5,
     "metadata": {},
     "output_type": "execute_result"
    }
   ],
   "source": [
    "h = solution_h.subs(integration_constants).rhs\n",
    "h"
   ]
  },
  {
   "cell_type": "markdown",
   "metadata": {},
   "source": [
    "The impulse response is plotted for the values of $R$, $L$ and $C$ given above"
   ]
  },
  {
   "cell_type": "code",
   "execution_count": 6,
   "metadata": {},
   "outputs": [
    {
     "data": {
      "image/png": "[encoded data removed]",
      "text/plain": [
       "<matplotlib.figure.Figure at 0x105cf2eb8>"
      ]
     },
     "metadata": {},
     "output_type": "display_data"
    }
   ],
   "source": [
    "sym.plot(h.subs(RLC), (t,0,10), ylabel=r'h(t)');"
   ]
  },
  {
   "cell_type": "markdown",
   "metadata": {},
   "source": [
    "### Step Response\n",
    "\n",
    "The [step response](step_response.ipynb) is derived by integrating over the impulse response $h(t)$. For ease of illustration this is performed for the specific values of the elements given above"
   ]
  },
  {
   "cell_type": "code",
   "execution_count": 7,
   "metadata": {},
   "outputs": [
    {
     "data": {
      "image/png": "[encoded data removed]",
      "text/latex": [
       "$$- \\frac{5 i e^{t \\left(-1 - 2 i\\right)}}{4 + 8 i} - \\frac{5 i e^{t \\left(-1 + 2 i\\right)}}{-4 + 8 i} + \\frac{5 i}{-4 + 8 i} + \\frac{5 i}{4 + 8 i}$$"
      ],
      "text/plain": [
       "       t⋅(-1 - 2⋅ⅈ)        t⋅(-1 + 2⋅ⅈ)                             \n",
       "  5⋅ⅈ⋅ℯ               5⋅ⅈ⋅ℯ                   5⋅ⅈ            5⋅ⅈ    \n",
       "- ───────────────── - ───────────────── + ──────────── + ───────────\n",
       "     4⋅(1 + 2⋅ⅈ)         4⋅(-1 + 2⋅ⅈ)     4⋅(-1 + 2⋅ⅈ)   4⋅(1 + 2⋅ⅈ)"
      ]
     },
     "execution_count": 7,
     "metadata": {},
     "output_type": "execute_result"
    }
   ],
   "source": [
    "tau = sym.symbols('tau')\n",
    "\n",
    "he = sym.integrate(h.subs(RLC).subs(t,tau).subs(sym.Heaviside(tau),1), (tau,0,t))\n",
    "he"
   ]
  },
  {
   "cell_type": "markdown",
   "metadata": {},
   "source": [
    "Let's plot the step response"
   ]
  },
  {
   "cell_type": "code",
   "execution_count": 8,
   "metadata": {},
   "outputs": [
    {
     "data": {
      "image/png": "[encoded data removed]",
      "text/plain": [
       "<matplotlib.figure.Figure at 0x105d1c518>"
      ]
     },
     "metadata": {},
     "output_type": "display_data"
    }
   ],
   "source": [
    "sym.plot(he, (t,0,10), ylabel=r'$h_\\epsilon(t)$');"
   ]
  },
  {
   "cell_type": "markdown",
   "metadata": {},
   "source": [
    "### Transfer Function\n",
    "\n",
    "For an exponential input signal $x(t) = e^{s t}$, the [transfer function](eigenfunctions.ipynb#Transfer-Function) $H(s)$ represents the weight of the exponential output signal $y(t) = H(s) \\cdot e^{s t}$. The transfer function is derived by introducing $x(t)$ and $y(t)$ into the ODE and solving for $H(s)$"
   ]
  },
  {
   "cell_type": "code",
   "execution_count": 9,
   "metadata": {},
   "outputs": [
    {
     "data": {
      "image/png": "[encoded data removed]",
      "text/latex": [
       "$$\\frac{1}{C L s^{2} + C R s + 1}$$"
      ],
      "text/plain": [
       "        1         \n",
       "──────────────────\n",
       "     2            \n",
       "C⋅L⋅s  + C⋅R⋅s + 1"
      ]
     },
     "execution_count": 9,
     "metadata": {},
     "output_type": "execute_result"
    }
   ],
   "source": [
    "s = sym.symbols('s')\n",
    "H = sym.Function('H')(s)\n",
    "\n",
    "H, = sym.solve(ode.subs(x, sym.exp(s*t)).subs(y, H*sym.exp(s*t)).doit(), H)\n",
    "H"
   ]
  },
  {
   "cell_type": "markdown",
   "metadata": {},
   "source": [
    "The transfer characteristics of an LTI system for harmonic exponential signals $e^{j \\omega} = \\cos(\\omega t) + j \\sin(\\omega t)$ are of special interest in the analysis of electrical circuits. It can be derived from $H(s)$ by substituting the complex frequency $s$ with $s = j \\omega$. The resulting transfer function $H(j \\omega)$ provides the attenuation and phase of an harmonic input signal by the system."
   ]
  },
  {
   "cell_type": "code",
   "execution_count": 10,
   "metadata": {},
   "outputs": [
    {
     "data": {
      "image/png": "[encoded data removed]",
      "text/latex": [
       "$$\\frac{1}{- C L \\omega^{2} + i C R \\omega + 1}$$"
      ],
      "text/plain": [
       "          1           \n",
       "──────────────────────\n",
       "       2              \n",
       "- C⋅L⋅ω  + ⅈ⋅C⋅R⋅ω + 1"
      ]
     },
     "execution_count": 10,
     "metadata": {},
     "output_type": "execute_result"
    }
   ],
   "source": [
    "w = sym.symbols('omega')\n",
    "\n",
    "Hjw = H.subs(s, sym.I * w)\n",
    "Hjw"
   ]
  },
  {
   "cell_type": "markdown",
   "metadata": {},
   "source": [
    "The magnitude of the transfer function $|H(j \\omega)|$ is plotted for illustration"
   ]
  },
  {
   "cell_type": "code",
   "execution_count": 11,
   "metadata": {},
   "outputs": [
    {
     "data": {
      "image/png": "[encoded data removed]",
      "text/plain": [
       "<matplotlib.figure.Figure at 0x105f8a710>"
      ]
     },
     "metadata": {},
     "output_type": "display_data"
    }
   ],
   "source": [
    "sym.plot(abs(Hjw.subs(RLC)), (w, -10, 10), ylabel=r'$|H(j \\omega)|$', xlabel=r'$\\omega$');"
   ]
  },
  {
   "cell_type": "markdown",
   "metadata": {},
   "source": [
    "It is obvious, that the low frequencies pass through the system and that high frequencies are attenuated. This motivates the term 'low-pass' for such systems."
   ]
  },
  {
   "cell_type": "markdown",
   "metadata": {},
   "source": [
    "As alternative to the solution of the ODE, the transfer function $H(s)$ is [computed from the impulse response](eigenfunctions.ipynb#Link-between-Transfer-Function-and-Impulse-Response) and plotted."
   ]
  },
  {
   "cell_type": "code",
   "execution_count": 12,
   "metadata": {},
   "outputs": [
    {
     "data": {
      "image/png": "[encoded data removed]",
      "text/latex": [
       "$$\\frac{5}{s^{2} + 2 s + 5}$$"
      ],
      "text/plain": [
       "     5      \n",
       "────────────\n",
       " 2          \n",
       "s  + 2⋅s + 5"
      ]
     },
     "execution_count": 12,
     "metadata": {},
     "output_type": "execute_result"
    }
   ],
   "source": [
    "H2 = sym.integrate(h.subs(RLC)*sym.exp(-s*t), (t,0,sym.oo), conds='none')\n",
    "H2 = H2.simplify()\n",
    "H2"
   ]
  },
  {
   "cell_type": "code",
   "execution_count": 13,
   "metadata": {},
   "outputs": [
    {
     "data": {
      "image/png": "[encoded data removed]",
      "text/plain": [
       "<matplotlib.figure.Figure at 0x10616dc18>"
      ]
     },
     "metadata": {},
     "output_type": "display_data"
    }
   ],
   "source": [
    "sym.plot(abs(H2.subs(s, sym.I*w)), (w, -10, 10), ylabel=r'$|H(j \\omega)|$', xlabel=r'$\\omega$');"
   ]
  },
  {
   "cell_type": "markdown",
   "metadata": {
    "nbsphinx": "hidden"
   },
   "source": [
    "**Copyright**\n",
    "\n",
    "This notebook is provided as [Open Educational Resources](https://en.wikipedia.org/wiki/Open_educational_resources). Feel free to use the notebook for your own purposes. The text/images/data are licensed under [Creative Commons Attribution 4.0](https://creativecommons.org/licenses/by/4.0/), the code of the IPython examples under the [MIT license](https://opensource.org/licenses/MIT). Please attribute the work as follows: *Sascha Spors, Selected Topics in Audio Signal Processing - Supplementary Material, 2017*."
   ]
  }
 ],
 "metadata": {
  "kernelspec": {
   "display_name": "Python 3",
   "language": "python",
   "name": "python3"
  },
  "language_info": {
   "codemirror_mode": {
    "name": "ipython",
    "version": 3
   },
   "file_extension": ".py",
   "mimetype": "text/x-python",
   "name": "python",
   "nbconvert_exporter": "python",
   "pygments_lexer": "ipython3",
   "version": "3.5.2"
  }
 },
 "nbformat": 4,
 "nbformat_minor": 1
}
