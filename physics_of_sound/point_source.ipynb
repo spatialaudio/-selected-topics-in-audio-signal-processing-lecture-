{
 "cells": [
  {
   "cell_type": "markdown",
   "metadata": {},
   "source": [
    "# Point Source\n",
    "\n",
    "*This Jupyter notebook is part of a [collection of notebooks](../index.ipynb) in the masters course Selected Topics in Audio Signal Processing, Communications Engineering, Universität Rostock. Please direct questions and suggestions to [Sascha.Spors@uni-rostock.de](mailto:Sascha.Spors@uni-rostock.de).*"
   ]
  },
  {
   "cell_type": "markdown",
   "metadata": {},
   "source": [
    "## Introduction\n",
    "\n",
    "The point source is an elementary solution of the inhomogeneous wave equation and is being used as idealized model for many types of practical sources. The acoustical properties of the point source are derived and discussed in this notebook."
   ]
  },
  {
   "cell_type": "markdown",
   "metadata": {},
   "source": [
    "## Pressure Field\n",
    "\n",
    "The pressure field $P(\\mathbf{x}, \\omega)$ of the point source constitutes the solution of the inhomogeneous [Helmholtz equation](https://en.wikipedia.org/wiki/Helmholtz_equation) for a point-like inhomogeneity\n",
    "\n",
    "\\begin{equation}\n",
    "\\Delta P(\\mathbf{x}, \\omega) + \\left( \\frac{\\omega}{c} \\right)^2 P(\\mathbf{x}, \\omega) = - \\delta(\\mathbf{x} - \\mathbf{x}_\\mathrm{s}) ,\n",
    "\\end{equation}\n",
    "\n",
    "where $\\mathbf{x}_\\mathrm{s}$ denotes the source position, $c$ the speed of sound and $\\omega = 2 \\pi f$ the angular frequency. The solution of this partial differential equation (PDE) is given as\n",
    "\n",
    "\\begin{equation}\n",
    "P(\\mathbf{x},\\omega) = \\frac{1}{4 \\pi} \\, \\frac{e^{-j \\frac{\\omega}{c} r}}{r} ,\n",
    "\\end{equation}\n",
    "\n",
    "where $r = || \\mathbf{x} - \\mathbf{x}_\\mathrm{s} ||$ denotes the distance between the field point $\\mathbf{x}$ and the source position $\\mathbf{x}_\\mathrm{s}$. As the pressure field is only dependent on the distance $r$ and shows no angular dependencies, the pressure field is radially symmetric with respect to the source position $\\mathbf{x}_\\mathrm{s}$. Therefore, the point source is also commonly termed as acoustic *monopole*. It can be concluded further that the magnitude of the pressure field is inverse proportional to the distance from the source position. In the remainder we define the monopole with magnitude of pressure $\\frac{1}{4 \\pi}$ in one meter distance as unit-amplitude point source. Note that this definition is differently handled in literature.\n",
    "\n",
    "The pressure field in the time-domain for a spatio-temporal Dirac impulse as $\\delta(\\mathbf{x} - \\mathbf{x}_\\mathrm{s}) \\delta(t)$ inhomogeneity can be derived by inverse temporal Fourier transform of $P(\\mathbf{x},\\omega)$ and yields\n",
    "\n",
    "\\begin{equation}\n",
    "p(\\mathbf{x},t) = \\frac{1}{4 \\pi r} \\; \\delta\\left(t-\\frac{r}{c}\\right).\n",
    "\\end{equation}"
   ]
  },
  {
   "cell_type": "markdown",
   "metadata": {},
   "source": [
    "**Example**\n",
    "\n",
    "The [Sound Field Synthesis Toolbox for Python](https://github.com/sfstoolbox/sfs-python) provides implementations of selected elementary sources in the frequency and time-domain. The function [`sfs.mono.source.point`](http://python.sfstoolbox.org/en/latest/frequency-domain.html#sfs.mono.source.point) of the toolbox calculates the pressure field of a monochromatic point source numerically on a given spatial grid. First the respective modules are imported and some general definitions are given."
   ]
  },
  {
   "cell_type": "code",
   "execution_count": null,
   "metadata": {},
   "outputs": [],
   "source": [
    "import sfs\n",
    "import numpy as np\n",
    "import matplotlib.pyplot as plt\n",
    "%matplotlib inline\n",
    "\n",
    "x0 = 0, 0, 0  # position of point source\n",
    "f = 343  # frequency of point source, 1 m wave length at 343 Hz \n",
    "omega = 2 * np.pi * f  # angular frequency\n",
    "normalization = 4 * np.pi  # normalization for 1 Pa @ 1m"
   ]
  },
  {
   "cell_type": "markdown",
   "metadata": {},
   "source": [
    "Then the pressure field of a point source is computed and plotted."
   ]
  },
  {
   "cell_type": "code",
   "execution_count": null,
   "metadata": {},
   "outputs": [],
   "source": [
    "# points (grid) where the sound pressure is calculated\n",
    "grid = sfs.util.xyz_grid([-2, 2], [-2, 2], 0, spacing=0.02)\n",
    "# calculate pressure field of point source\n",
    "p = sfs.mono.source.point(omega, x0, None, grid)\n",
    "# plot pressure field\n",
    "plt.figure(figsize=(8 ,8))\n",
    "sfs.plot.soundfield(p * normalization, grid)\n",
    "plt.grid()\n",
    "plt.title(r'$p(\\mathbf{x},t=0)$' + ' for point source at {} m'.format(x0));"
   ]
  },
  {
   "cell_type": "markdown",
   "metadata": {},
   "source": [
    "## Particle Velocity Field\n",
    "\n",
    "The velocity field of the point source can be derived by applying Euler's equation ([Glg. (2.27) und Kap. 3.3](http://doi.org/10.1007/978-3-662-47704-5))\n",
    "\n",
    "\\begin{equation}\n",
    "\\mathbf{V}(\\mathbf{x}, \\omega) = - \\frac{1}{j \\omega \\rho_0} \\nabla P(\\mathbf{x}, \\omega) \n",
    "\\end{equation}\n",
    "\n",
    "with the static density $\\rho_0$ of the compressible medium, such as air.\n",
    "\n",
    "It can be concluded that the velocity field of the point source has only a radial component $\\mathbf{V}(\\mathbf{x}, \\omega) = V_\\mathrm{r}(r, \\omega) \\vec{e}_r$ due its radial symmetry and the fact that sound waves are longitudinal waves. Evaluation of Euler's formula for the pressure field of a point source yields\n",
    "\n",
    "\\begin{equation}\n",
    "\\begin{split}\n",
    "V_\\mathrm{r}(r, \\omega) &= - \\frac{1}{j \\omega \\rho_0} \\frac{\\partial P(\\mathbf{x}, \\omega)}{\\partial r} \\\\\n",
    "&= \\frac{1}{\\rho_0 c} \\left(1 + \\frac{1}{j \\frac{\\omega}{c} r} \\right) \\frac{1}{4 \\pi r} \\; e^{-j \\frac{\\omega}{c} r}\n",
    "\\end{split}\n",
    "\\end{equation}\n",
    "\n",
    "We recognize last two terms as the the pressure field of a point source."
   ]
  },
  {
   "cell_type": "markdown",
   "metadata": {},
   "source": [
    "**Example**\n",
    "\n",
    "The particle velocity is computed at given positions (spatial grid) using the `sfs` toolbox. It is visualized by arrows showing the direction and magnitude of the particles. The magnitude is indicated by the width of the arrows.\n",
    "\n",
    "We see that for positive pressure (i.e. compression) particle velocity is directed outwards, for negative pressure (i.e. depression) the particle velocity is directed inwards, for zero pressure the velocity is also zero, i.e. there is no movement of the particles."
   ]
  },
  {
   "cell_type": "code",
   "execution_count": null,
   "metadata": {},
   "outputs": [],
   "source": [
    "# grid for velocity\n",
    "vgrid = sfs.util.xyz_grid([-2, 2], [-2, 2], 0, spacing=0.1)\n",
    "# particle velocity of point source\n",
    "v = sfs.mono.source.point_velocity(omega, x0, None, vgrid)\n",
    "# plot pressure and velocity field\n",
    "plt.figure(figsize=(8, 8))\n",
    "sfs.plot.soundfield(p * normalization, grid)\n",
    "sfs.plot.vectors(v * normalization, vgrid)\n",
    "plt.title(r'$p(\\mathbf{x},t=0)$ and $\\mathbf{v}(\\mathbf{x},t=0)$' + ' for point source at {} m'.format(x0));"
   ]
  },
  {
   "cell_type": "markdown",
   "metadata": {},
   "source": [
    "The particle velocity may also be used to calculate the particle displacement vector by evaluating\n",
    "\n",
    "\\begin{equation}\n",
    "\\mathbf{d}(\\mathbf{x}, t) = \\int_{-\\infty}^t \\mathbf{v}(\\mathbf{x}, \\tau) d\\tau\n",
    "\\end{equation}\n",
    "\n",
    "By starting with a homogeneous distribution of particles one can visualize the particle density at a given time-instant by adding the displacement to the initial positions of the particles. The displacement is amplified in the following example for ease of visibility.\n",
    "\n",
    "It is important to realize that particle in fact do not move from there position, they only vibrate around there resting position. Energy transport via the wave is realized by exchanging potential and kinetic energy of the particles.\n"
   ]
  },
  {
   "cell_type": "code",
   "execution_count": null,
   "metadata": {},
   "outputs": [],
   "source": [
    "# random grid for particles\n",
    "pgrid = [np.random.uniform(-2.5, 2.5, 8000), np.random.uniform(-2.5, 2.5, 8000), 0]\n",
    "# particle velocity of point source\n",
    "v = sfs.mono.source.point_velocity(omega, x0, None, pgrid)\n",
    "# compute displacement of particles\n",
    "X = pgrid + 2e6 * sfs.util.displacement(v, omega)\n",
    "# plot pressure field and particles\n",
    "fig = plt.figure(figsize=(8, 8))\n",
    "sfs.plot.soundfield(p * normalization, grid)\n",
    "sfs.plot.particles(X, trim=[-2, 2, -2, 2], ax=fig.gca(), facecolor='black', alpha=1, s=2)\n",
    "plt.title(r'$p(\\mathbf{x},t=0)$' + ' for point source at {} m'.format(x0));"
   ]
  },
  {
   "cell_type": "markdown",
   "metadata": {},
   "source": [
    "## Specific Acoustic Impedance\n",
    "\n",
    "The [specific acoustic impedance](https://en.wikipedia.org/wiki/Acoustic_impedance) of a source is given as the quotient between sound pressure and particle velocity in a specific direction. The particle velocity of the point source has only a contribution in radial direction. Hence, the specific acoustic impedance of the point source is given as\n",
    "\n",
    "\\begin{equation}\n",
    "Z(r, \\omega) = \\frac{P(r, \\omega)}{V_r(r, \\omega)} = \\frac{\\rho_0 c}{1 + \\frac{1}{j \\frac{\\omega}{c} r}}\n",
    "\\end{equation}\n",
    "\n",
    "The specific acoustic impedance provides insights into the relation between pressure and the velocity. Both are in-phase if the impedance is real-valued. The specific acoustic impedance of a plane wave is given as $Z_0 = \\rho_0 c$. It is known as characteristic acoustic impedance, for air with $c= 343 \\text{m/s}$ and $\\rho_0 = 1.204 \\frac{\\text{kg}}{\\text{m}^3}$ at $T=20^\\circ\\,\\text{C}$ this amounts to $Z_0 = 413 \\frac{\\text{kg}}{\\text{m}^2 \\text{s} }$. Inspection of above relation for a point source yields that in the limit\n",
    "\n",
    "\\begin{equation}\n",
    "\\lim_{\\frac{\\omega}{c} r \\to \\infty} Z(r, \\omega) = Z_0.\n",
    "\\end{equation}\n",
    "\n",
    "The specific acoustic impedance $Z(r, \\omega)$ of a point source approaches the characteristic impedance for high frequencies $\\omega$ and/or large distances $r$. This is termed as *far-field* of a sound source (in practice this is considered when $1 \\gg \\frac{1}{j \\frac{\\omega}{c} r} \\rightarrow \\frac{\\omega}{c} r \\gg 1$ holds). Since the specific impedance is real-valued, both pressure and velocity are in-phase in this case."
   ]
  },
  {
   "cell_type": "markdown",
   "metadata": {},
   "source": [
    "**Example**\n",
    "\n",
    "The example plots the specific acoustic impedance of the point source as a function of $\\frac{\\omega}{c} r$. It can be observed that the characteristic acoustic impedance is approached for quite low frequencies and/or distances, cf. $\\frac{\\omega}{c} r > 2 \\pi$."
   ]
  },
  {
   "cell_type": "code",
   "execution_count": null,
   "metadata": {},
   "outputs": [],
   "source": [
    "# calculate specific acoustic impedance\n",
    "kr = np.linspace(0.01, 10, 100)\n",
    "Z = 1/(1+ 1/(1j*kr))\n",
    "# plot specific acoustic impedance\n",
    "plt.figure(figsize=(10,4))\n",
    "plt.plot(kr, abs(Z), label=r'$\\frac{|Z(r, \\omega)|}{Z_0}$')\n",
    "plt.plot(kr, np.imag(Z), label=r'$\\frac{\\Im \\{Z(r, \\omega)\\}}{Z_0}$')\n",
    "plt.plot(kr, np.ones(len(kr)), 'k--' , label=r'$Z_0$')\n",
    "plt.xlabel(r'$\\frac{\\omega}{c} r$')\n",
    "plt.ylabel(r'impedance ratio')\n",
    "plt.title('acoustic impedance of a point source')\n",
    "plt.legend()\n",
    "plt.grid()"
   ]
  },
  {
   "cell_type": "markdown",
   "metadata": {},
   "source": [
    "Next, in order to illustrate the phase relations between the pressure and the radial velocity of a point source both are plotted with respect to the distance $r$. If we use $f= 343\\,\\text{Hz}$ and $c= 343\\,\\text{m/s}$ we can expect that $\\frac{\\omega}{c} r > 2 \\pi$ holds if $r>1\\,\\text{m}$. Then the in-phase condition is reasonable well approximated as seen in the plot below."
   ]
  },
  {
   "cell_type": "code",
   "execution_count": null,
   "metadata": {},
   "outputs": [],
   "source": [
    "# radial grid\n",
    "grid = sfs.util.xyz_grid([0.02, 5], 0, 0, spacing=0.02)\n",
    "# compute velocity and pressure field\n",
    "v = sfs.mono.source.point_velocity(omega, [0, 0, 0], None, grid)\n",
    "p = sfs.mono.source.point(omega, [0, 0, 0], None, grid)\n",
    "Z0 = sfs.defs.c*sfs.defs.rho0\n",
    "# plot pressure and velocity\n",
    "plt.figure(figsize=(10,4))\n",
    "plt.plot(grid[0], np.real(p), 'r-', label=r'$P(r, \\omega)$')\n",
    "plt.plot(grid[0], np.real(v[0]) * Z0, 'b-', label=r'$V_r(r, \\omega) \\cdot Z_0$')\n",
    "plt.xlabel('r (m)')\n",
    "plt.title('Pressure and radial velocity of a monochromatic point source with f = {} Hz'.format(f))\n",
    "plt.legend()\n",
    "plt.grid()\n",
    "plt.ylim([-.35, .35]);"
   ]
  },
  {
   "cell_type": "markdown",
   "metadata": {},
   "source": [
    "## Intensity\n",
    "\n",
    "The intensity of a sound field is defined as\n",
    "\n",
    "\\begin{equation}\n",
    "\\mathbf{i}(\\mathbf{x}, t) = p(\\mathbf{x}, t) \\mathbf{v}(\\mathbf{x}, t) .\n",
    "\\end{equation}\n",
    "\n",
    "It characterizes the instantaneous power density (power per area) in the sound field. Thus, the acoustic power passing through some surface is given by integrating the intensity over the surface. For stationary sound sources the time-averaged intensity is commonly used. The power density can further be split into its active and reactive parts. The time-averaged active intensity for a monochromatic source is then given as ([Kap. 2.4](http://doi.org/10.1007/978-3-662-47704-5))\n",
    "\n",
    "\\begin{equation}\n",
    "\\bar{\\mathbf{I}}(\\mathbf{x}, \\omega) = \\frac{1}{2} \\Re \\{ P(\\mathbf{x}, \\omega) \\mathbf{V}(\\mathbf{x}, \\omega) \\} .\n",
    "\\end{equation}\n",
    "\n",
    "For the point source, the time-averaged intensity has only a radial component due to its velocity field. Introducing the pressure and velocity field into above equation yields\n",
    "\n",
    "\\begin{equation}\n",
    "\\begin{split}\n",
    "\\bar{I}_r(r, \\omega) &= \\frac{1}{2} \\Re \\left\\{ \\frac{1}{(4 \\pi r)^2 \\rho_0 c} (1 + \\frac{j}{\\frac{\\omega}{c} r}) \\right\\} \\\\\n",
    "&= \\frac{1}{2 (4 \\pi)^2 \\rho_0 c} \\frac{1}{r^2} .\n",
    "\\end{split}\n",
    "\\end{equation}\n",
    "\n",
    "The time-averaged active intensity points radially outwards with respect to the position of the point source. Its magnitude is inverse proportional to the squared distance $r^2$. This relation is known as [inverse square law](https://en.wikipedia.org/wiki/Inverse-square_law).\n",
    "\n",
    "Integrating the time-averaged active intensity over a sphere of radius $r$ yields the active power in the sound field of a unit-amplitude point source\n",
    "\n",
    "\\begin{equation}\n",
    "P = \\frac{1}{8 \\pi \\rho_0 c}.\n",
    "\\end{equation}\n",
    "\n",
    "When normalizing the unit-amplitude point source with $\\cdot\\,4 \\pi$, such that pressure magnitude is one at one meter distance we have\n",
    "\n",
    "\\begin{equation}\n",
    "P = \\frac{4 \\pi}{8 \\pi \\rho_0 c} = \\frac{1}{2 \\rho_0 c},\n",
    "\\end{equation}\n",
    "\n",
    "i.e. the same power of the plane wave with pressure magnitude of one."
   ]
  },
  {
   "cell_type": "markdown",
   "metadata": {},
   "source": [
    "**Example**\n",
    "\n",
    "The active power of a unit-amplitude point source is calculated in the following."
   ]
  },
  {
   "cell_type": "code",
   "execution_count": null,
   "metadata": {},
   "outputs": [],
   "source": [
    "P = 1/(8*np.pi*sfs.defs.rho0*sfs.defs.c)\n",
    "print('Active power of unit-amplitude point source is {:02.2e} Watts'.format(P))"
   ]
  },
  {
   "cell_type": "markdown",
   "metadata": {},
   "source": [
    "**Copyright**\n",
    "\n",
    "This notebook is provided as [Open Educational Resources](https://en.wikipedia.org/wiki/Open_educational_resources). Feel free to use the notebook for your own purposes. The text/images/data are licensed under [Creative Commons Attribution 4.0](https://creativecommons.org/licenses/by/4.0/), the code of the IPython examples under the [MIT license](https://opensource.org/licenses/MIT). Please attribute the work as follows: *Sascha Spors, Selected Topics in Audio Signal Processing - Supplementary Material, 2017-2018*."
   ]
  }
 ],
 "metadata": {
  "kernelspec": {
   "display_name": "Python 3",
   "language": "python",
   "name": "python3"
  },
  "language_info": {
   "codemirror_mode": {
    "name": "ipython",
    "version": 3
   },
   "file_extension": ".py",
   "mimetype": "text/x-python",
   "name": "python",
   "nbconvert_exporter": "python",
   "pygments_lexer": "ipython3",
   "version": "3.6.5"
  }
 },
 "nbformat": 4,
 "nbformat_minor": 2
}
