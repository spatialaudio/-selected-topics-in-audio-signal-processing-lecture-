{
 "cells": [
  {
   "cell_type": "markdown",
   "metadata": {},
   "source": [
    "# Representations of the Wave Equation and its Solutions\n",
    "\n",
    "*This Jupyter notebook is part of a [collection of notebooks](../index.ipynb) in the masters course Selected Topics in Audio Signal Processing, Communications Engineering, Universität Rostock. Please direct questions and suggestions to [Sascha.Spors@uni-rostock.de](mailto:Sascha.Spors@uni-rostock.de).*"
   ]
  },
  {
   "cell_type": "markdown",
   "metadata": {},
   "source": [
    "## Time-Domain\n",
    "\n",
    "The inhomogeneous wave equation in the time-domain is given as\n",
    "\n",
    "\\begin{equation}\n",
    "\\Delta p(\\mathbf{x}, t) - \\frac{1}{c^2} \\frac{\\partial^2}{\\partial t^2} p(\\mathbf{x}, t) = - q(\\mathbf{x}, t)\n",
    "\\end{equation}\n",
    "\n",
    "The wave equation is a linear partial differential equation (PDE) with constant coefficients."
   ]
  },
  {
   "cell_type": "markdown",
   "metadata": {},
   "source": [
    "## Monochromatic\n",
    "\n",
    "Lets assume a monochromatic real-valued excitation $q(\\mathbf{x}, t) = Q(\\mathbf{x}, \\omega_0) \\cos(\\omega_0 t)$ with angular frequency $\\omega_0 = 2 \\pi f_0$. Due to the linearity of the wave equation, the following Ansatz is chosen for the sound pressure $p(\\mathbf{x}, t) = P(\\mathbf{x}, \\omega_0) \\cos(\\omega_0 t)$. It is common to use complex calculus for PDEs, hence \n",
    "\n",
    "\\begin{eqnarray}\n",
    "q(\\mathbf{x}, t) &= \\Re \\{ Q(\\mathbf{x}, \\omega_0) e^{j \\omega_0 t} \\} \\\\\n",
    "p(\\mathbf{x}, t) &= \\Re \\{ P(\\mathbf{x}, \\omega_0) e^{j \\omega_0 t} \\}\n",
    "\\end{eqnarray}\n",
    "\n",
    "Introducing the complex quantities into the wave equation yields\n",
    "\n",
    "\\begin{equation}\n",
    "\\Delta P(\\mathbf{x}, \\omega_0) e^{j \\omega_0 t} + \\left( \\frac{\\omega_0}{c} \\right)^2 P(\\mathbf{x}, \\omega_0) e^{j \\omega_0 t} = - Q(\\mathbf{x}, \\omega_0) e^{j \\omega_0 t}\n",
    "\\end{equation}\n",
    "\n",
    "The complex exponential function can be canceled resulting in\n",
    "\n",
    "\\begin{equation}\n",
    "\\Delta P(\\mathbf{x}, \\omega_0) + \\left( \\frac{\\omega_0}{c} \\right)^2 P(\\mathbf{x}, \\omega_0) = - Q(\\mathbf{x}, \\omega_0)\n",
    "\\end{equation}\n",
    "\n",
    "For $t=0$ the time-domain solution of the wave equation for $\\omega_0$ is given as $p(\\mathbf{x}, 0) = \\Re \\{ P(\\mathbf{x}, \\omega_0) \\}$. It is common to discard the index 0 in the angular frequency. The index was however introduced for the sake of comparison with the temporal Fourier transform of the wave equation discussed in the following."
   ]
  },
  {
   "cell_type": "markdown",
   "metadata": {},
   "source": [
    "## Temporal Fourier Domain\n",
    "\n",
    "Temporal Fourier transform of the inhomogeneity and the pressure yields the Helmholtz equation\n",
    "\n",
    "\\begin{equation}\n",
    "\\Delta P(\\mathbf{x}, \\omega) + \\left( \\frac{\\omega}{c} \\right)^2 P(\\mathbf{x}, \\omega) = - Q(\\mathbf{x}, \\omega)\n",
    "\\end{equation}\n",
    "\n",
    "where the differentiation theorem of the Fourier transform has been applied. The link to the monochromatic case can be found by considering a monochromatic excitation \n",
    "\n",
    "\\begin{equation}\n",
    "Q(\\mathbf{x}, \\omega_0) = Q(\\mathbf{x}, \\omega) \\delta(\\omega - \\omega_0) \n",
    "\\end{equation}\n",
    "\n",
    "Due to the linearity of the wave equation the following Ansatz is chosen\n",
    "\n",
    "\\begin{equation}\n",
    "P(\\mathbf{x}, \\omega_0) = P(\\mathbf{x}, \\omega) \\delta(\\omega - \\omega_0) \n",
    "\\end{equation}\n",
    "\n",
    "Introducing the right-hand-sides of the latter two equations into the Helmholtz equation yields the same result as for the monochromatic case\n",
    "\n",
    "\\begin{equation}\n",
    "\\Delta P(\\mathbf{x}, \\omega_0) + \\left( \\frac{\\omega_0}{c} \\right)^2 P(\\mathbf{x}, \\omega_0) = - Q(\\mathbf{x}, \\omega_0)\n",
    "\\end{equation}\n",
    "\n",
    "Hence, the time-domain solution for a monochromatic excitation for $t=0$ may also be derived from the temporal Fourier transform of the problem by evaluation of $p(\\mathbf{x}, \\omega) = \\Re \\{ P(\\mathbf{x}, \\omega) \\}$ for one particular frequency $\\omega_0$."
   ]
  },
  {
   "cell_type": "markdown",
   "metadata": {},
   "source": [
    "## Temporal Excitation\n",
    "\n",
    "Lets consider the solution $P_\\delta(\\mathbf{x}, \\omega)$ of the Helmholtz equation for the excitation with a temporal Dirac impulse $q(\\mathbf{x}, t) = q(\\mathbf{x}) \\delta(t)$\n",
    "\n",
    "\\begin{equation}\n",
    "\\Delta P_\\delta(\\mathbf{x}, \\omega) + \\left( \\frac{\\omega}{c} \\right)^2 P_\\delta(\\mathbf{x}, \\omega) = - Q(\\mathbf{x})\n",
    "\\end{equation}\n",
    "\n",
    "Due to the linearity of the wave equation the pressure field for a generic time-domain excitation $q(\\mathbf{x}, t) = q(\\mathbf{x}) \\hat{q}(t)$ is given as\n",
    "\n",
    "\\begin{equation}\n",
    "P(\\mathbf{x}, \\omega) = P_\\delta(\\mathbf{x}, \\omega) \\hat{Q}(\\omega)\n",
    "\\end{equation}\n",
    "\n",
    "or\n",
    "\n",
    "\\begin{equation}\n",
    "p(\\mathbf{x},t) = p_\\delta(\\mathbf{x}, t) * \\hat{q}(t)\n",
    "\\end{equation}"
   ]
  },
  {
   "cell_type": "markdown",
   "metadata": {},
   "source": [
    "**Copyright**\n",
    "\n",
    "This notebook is provided as [Open Educational Resources](https://en.wikipedia.org/wiki/Open_educational_resources). Feel free to use the notebook for your own purposes. The text/images/data are licensed under [Creative Commons Attribution 4.0](https://creativecommons.org/licenses/by/4.0/), the code of the IPython examples under the [MIT license](https://opensource.org/licenses/MIT). Please attribute the work as follows: *Sascha Spors, Selected Topics in Audio Signal Processing - Supplementary Material, 2017-2018*."
   ]
  }
 ],
 "metadata": {
  "kernelspec": {
   "display_name": "Python 3",
   "language": "python",
   "name": "python3"
  },
  "language_info": {
   "codemirror_mode": {
    "name": "ipython",
    "version": 3
   },
   "file_extension": ".py",
   "mimetype": "text/x-python",
   "name": "python",
   "nbconvert_exporter": "python",
   "pygments_lexer": "ipython3",
   "version": "3.7.9"
  }
 },
 "nbformat": 4,
 "nbformat_minor": 2
}
