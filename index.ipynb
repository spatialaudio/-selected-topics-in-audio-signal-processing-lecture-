{
 "cells": [
  {
   "cell_type": "markdown",
   "metadata": {},
   "source": [
    "# Selected Topics in Audio Signal Processing\n",
    "\n",
    "This collection of [Jupyter](https://jupyter.org/) notebooks serves as supplementary material to the masters course [Selected Topics in Audio Signal Processing](http://www.int.uni-rostock.de/Ausgewaehlte-Kapitel-der-digit.49.0.html) given by [Sascha Spors](http://www.int.uni-rostock.de/Staff-Info.23+B6JmNIYXNoPWUxOTliMTNjY2U2MDcyZjJiZTI0YTc4MmFkYTE5NjQzJnR4X2pwc3RhZmZfcGkxJTVCYmFja0lkJTVEPTMmdHhfanBzdGFmZl9waTElNUJzaG93VWlkJTVEPTExMQ__.0.html), Institute of Communications Engineering, Universität Rostock. You are invited to contribute by reporting errors and suggestions as [issues](https://github.com/spatialaudio/selected-topics-in-audio-signal-processing-lecture/issues) or directly via [Sascha.Spors@uni-rostock.de](mailto:Sascha.Spors@uni-rostock.de)."
   ]
  },
  {
   "cell_type": "markdown",
   "metadata": {},
   "source": [
    "# Contents"
   ]
  },
  {
   "cell_type": "markdown",
   "metadata": {},
   "source": [
    "## 1. The Physics of Sound"
   ]
  },
  {
   "cell_type": "markdown",
   "metadata": {},
   "source": [
    "## 2. Sound Propagation as Linear System\n",
    "\n",
    "#### Review of One-Dimensional Systems\n",
    "\n",
    "* [Characterization of One-Dimensional Systems by Differential Equations](linear_systems/network_analysis.ipynb)\n",
    "\n",
    "#### Multidimensional Signals and Systems\n",
    "\n",
    "* [Time-Variant Acoustic Systems](linear_systems/time_variant.ipynb)\n",
    "* [Two-Dimensional Convolution of an Image](linear_systems/2d_convolution.ipynb)\n",
    "\n",
    "#### Sound Propagation as Linear System\n",
    "\n",
    "* [Spatio-Temporal Transfer Function of a Rectangular Room](linear_systems/tf_rectangular_room.ipynb)\n",
    "* [Measured Spatio-Temporal Room Impulse Responses](linear_systems/spatio_temporal_IR.ipynb)\n",
    "* [Convolution of an Audio Signal with a Room Impulse Response](linear_systems/convolution_room_IR.ipynb)"
   ]
  },
  {
   "cell_type": "markdown",
   "metadata": {},
   "source": [
    "## 3. Electroacoustics\n",
    "\n",
    "#### Measurement of Room Impulse Responses\n",
    "\n",
    "* [Sweep Signals and their Spectra](electroacoustics/sweep_spectrum.ipynb)\n",
    "* [Measurement of an Acoustic Impulse Response](electroacoustics/acoustic_impulse_response_measurement.ipynb)\n",
    "\n",
    "#### Equalization of Electroacoustic Systems\n",
    "\n",
    "* [Equalization of a Headphone](electroacoustics/headphone_equalization.ipynb)"
   ]
  },
  {
   "cell_type": "markdown",
   "metadata": {},
   "source": [
    "## 4. Sound Field Analysis\n",
    "\n",
    "#### Fourier Analysis of Sound Fields\n",
    "\n",
    "* [Two-Dimensional Fourier Transforms](sound_field_analysis/2d_Fourier_transform.ipynb)\n",
    "\n",
    "#### Beamforming\n",
    "\n",
    "* [Delay-and-Sum Beamformer - Linear Array of Infinite Length](sound_field_analysis/delay_and_sum_infinite.ipynb)\n",
    "* [Delay-and-Sum Beamformer - Linear Array of Finite Length](sound_field_analysis/delay_and_sum_truncated.ipynb)\n",
    "* [Minimum Variance Distortionless Response (MVDR) Beamformer](sound_field_analysis/MVDR_truncated.ipynb)"
   ]
  },
  {
   "cell_type": "markdown",
   "metadata": {},
   "source": [
    "## 5. Sound Field Synthesis"
   ]
  },
  {
   "cell_type": "markdown",
   "metadata": {},
   "source": [
    "**Copyright**\n",
    "\n",
    "The notebooks are provided as [Open Educational Resources](https://en.wikipedia.org/wiki/Open_educational_resources). Feel free to use the notebooks for your own purposes. The text/images/data are licensed under [Creative Commons Attribution 4.0](https://creativecommons.org/licenses/by/4.0/), the code of the IPython examples under the [MIT license](https://opensource.org/licenses/MIT). Please attribute the work as follows: *Sascha Spors, Selected Topics in Audio Signal Processing - Supplementary Material, 2017*."
   ]
  }
 ],
 "metadata": {
  "kernelspec": {
   "display_name": "Python 3",
   "language": "python",
   "name": "python3"
  },
  "language_info": {
   "codemirror_mode": {
    "name": "ipython",
    "version": 3
   },
   "file_extension": ".py",
   "mimetype": "text/x-python",
   "name": "python",
   "nbconvert_exporter": "python",
   "pygments_lexer": "ipython3",
   "version": "3.5.2"
  }
 },
 "nbformat": 4,
 "nbformat_minor": 1
}
